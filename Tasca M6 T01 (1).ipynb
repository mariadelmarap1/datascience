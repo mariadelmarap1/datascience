{
 "cells": [
  {
   "cell_type": "code",
   "execution_count": 19,
   "id": "34818f6f",
   "metadata": {},
   "outputs": [],
   "source": [
    "from sklearn.model_selection import train_test_split\n",
    "from sklearn.preprocessing import StandardScaler\n",
    "from sklearn.preprocessing import PolynomialFeatures\n",
    "from sklearn.linear_model import LinearRegression\n",
    "from sklearn.tree import DecisionTreeRegressor\n",
    "from sklearn.metrics import mean_squared_error\n",
    "from sklearn.model_selection import GridSearchCV\n",
    "import pandas as pd\n",
    "import numpy as np\n",
    "import matplotlib.pyplot as plt\n",
    "import seaborn as sns"
   ]
  },
  {
   "cell_type": "code",
   "execution_count": 3,
   "id": "2376904b",
   "metadata": {},
   "outputs": [
    {
     "name": "stdout",
     "output_type": "stream",
     "text": [
      "       CRIM    ZN  INDUS  CHAS    NOX     RM    AGE     DIS  RAD    TAX  \\\n",
      "0   0.02731   0.0   7.07     0  0.469  6.421   78.9  4.9671    2  242.0   \n",
      "1   0.02729   0.0   7.07     0  0.469  7.185   61.1  4.9671    2  242.0   \n",
      "2   0.03237   0.0   2.18     0  0.458  6.998   45.8  6.0622    3  222.0   \n",
      "3   0.06905   0.0   2.18     0  0.458  7.147   54.2  6.0622    3  222.0   \n",
      "4   0.02985   0.0   2.18     0  0.458  6.430   58.7  6.0622    3  222.0   \n",
      "5   0.08829  12.5   7.87     0  0.524  6.012   66.6  5.5605    5  311.0   \n",
      "6   0.14455  12.5   7.87     0  0.524  6.172   96.1  5.9505    5  311.0   \n",
      "7   0.21124  12.5   7.87     0  0.524  5.631  100.0  6.0821    5  311.0   \n",
      "8   0.17004  12.5   7.87     0  0.524  6.004   85.9  6.5921    5  311.0   \n",
      "9   0.22489  12.5   7.87     0  0.524  6.377   94.3  6.3467    5  311.0   \n",
      "10  0.11747  12.5   7.87     0  0.524  6.009   82.9  6.2267    5  311.0   \n",
      "11  0.09378  12.5   7.87     0  0.524  5.889   39.0  5.4509    5  311.0   \n",
      "12  0.62976   0.0   8.14     0  0.538  5.949   61.8  4.7075    4  307.0   \n",
      "13  0.63796   0.0   8.14     0  0.538  6.096   84.5  4.4619    4  307.0   \n",
      "14  0.62739   0.0   8.14     0  0.538  5.834   56.5  4.4986    4  307.0   \n",
      "15  1.05393   0.0   8.14     0  0.538  5.935   29.3  4.4986    4  307.0   \n",
      "16  0.78420   0.0   8.14     0  0.538  5.990   81.7  4.2579    4  307.0   \n",
      "17  0.80271   0.0   8.14     0  0.538  5.456   36.6  3.7965    4  307.0   \n",
      "18  0.72580   0.0   8.14     0  0.538  5.727   69.5  3.7965    4  307.0   \n",
      "19  1.25179   0.0   8.14     0  0.538  5.570   98.1  3.7979    4  307.0   \n",
      "\n",
      "    PTRATIO       B  LSTAT  MEDV  \n",
      "0      17.8  396.90   9.14  21.6  \n",
      "1      17.8  392.83   4.03  34.7  \n",
      "2      18.7  394.63   2.94  33.4  \n",
      "3      18.7  396.90   5.33  36.2  \n",
      "4      18.7  394.12   5.21  28.7  \n",
      "5      15.2  395.60  12.43  22.9  \n",
      "6      15.2  396.90  19.15  27.1  \n",
      "7      15.2  386.63  29.93  16.5  \n",
      "8      15.2  386.71  17.10  18.9  \n",
      "9      15.2  392.52  20.45  15.0  \n",
      "10     15.2  396.90  13.27  18.9  \n",
      "11     15.2  390.50  15.71  21.7  \n",
      "12     21.0  396.90   8.26  20.4  \n",
      "13     21.0  380.02  10.26  18.2  \n",
      "14     21.0  395.62   8.47  19.9  \n",
      "15     21.0  386.85   6.58  23.1  \n",
      "16     21.0  386.75  14.67  17.5  \n",
      "17     21.0  288.99  11.69  20.2  \n",
      "18     21.0  390.95  11.28  18.2  \n",
      "19     21.0  376.57  21.02  13.6  \n"
     ]
    }
   ],
   "source": [
    "# Exercici 1\n",
    "#primero cargo la base de datos y nombro las columnas con base en un archivo descriptivo que me dieron para entender que estoy haciendo... \n",
    "\n",
    "# Carga de datos\n",
    "datos = pd.read_csv('housing data.csv')\n",
    "\n",
    "# Nombres de las columnas\n",
    "nombres_columnas = ['CRIM', 'ZN', 'INDUS', 'CHAS', 'NOX', 'RM', 'AGE', 'DIS', 'RAD', 'TAX', 'PTRATIO', 'B', 'LSTAT', 'MEDV']\n",
    "\n",
    "# Asignación de nuevos nombres de columnas\n",
    "datos.columns = nombres_columnas\n",
    "\n",
    "#ver el archivo \n",
    "print (datos[:20])"
   ]
  },
  {
   "cell_type": "code",
   "execution_count": 7,
   "id": "e787799b",
   "metadata": {},
   "outputs": [],
   "source": [
    "train_data, test_data = train_test_split(datos, test_size=0.2)"
   ]
  },
  {
   "cell_type": "code",
   "execution_count": 8,
   "id": "6943465a",
   "metadata": {},
   "outputs": [
    {
     "data": {
      "text/plain": [
       "LinearRegression()"
      ]
     },
     "execution_count": 8,
     "metadata": {},
     "output_type": "execute_result"
    }
   ],
   "source": [
    "#Exercici 1 Crea almenys dos models de regressió diferents per intentar predir el millor possible el preu de les vivendes (MEDV) de l'arxiu adjunt.\n",
    "\n",
    "# Seleccionar todas las columnas numéricas del dataset excepto la variable objetivo 'MEDV'\n",
    "X_train = train_data.drop(['MEDV'], axis=1)\n",
    "\n",
    "# Crear un objeto de regresión lineal\n",
    "reg_model = LinearRegression()\n",
    "\n",
    "# Entrenar el modelo de regresión lineal\n",
    "reg_model.fit(X_train, train_data['MEDV'])"
   ]
  },
  {
   "cell_type": "code",
   "execution_count": 36,
   "id": "91aa0dba",
   "metadata": {},
   "outputs": [
    {
     "name": "stdout",
     "output_type": "stream",
     "text": [
      "R-squared: 0.77\n",
      "Mean squared error: 17.50\n",
      "[25.01501255 23.93244603 20.63397966 15.21851127 18.38790762 21.19996822\n",
      " 21.14216881 24.804538    6.0787258  11.58371766 21.43686634 12.93779008\n",
      " 39.70185293 17.05488313 31.47631586 24.77068474 23.72588428 37.98163222\n",
      " 17.77887188 13.21187    20.44008588 22.48913089 16.49009796 26.97882419\n",
      " 38.82186434 22.12784403 21.12343036 19.88230955  8.95496992 32.39537714\n",
      "  9.16387934 25.63464618 19.61751396 24.41715748 31.85064416 25.59734156\n",
      " 25.38814515 35.91568452 29.82220548 28.75993637 19.31328681 29.78742206\n",
      " 18.6084372  20.09248864 31.30862182 30.33336925 21.45134151 31.41572095\n",
      " 15.9466806  17.66051023 20.64441648 18.14558854 35.76325628 32.7311727\n",
      " 20.41896646 16.40839242 22.68738121 24.96938777 24.77862327 26.934259\n",
      " 23.33682358 37.12252917 30.59111417 16.64076366 21.91200892 17.68436671\n",
      " 16.97048728 28.71945659 19.0262298  14.63741444 24.30669874 21.20230738\n",
      " 23.71878319 18.03759536 17.5569306  14.12351006 23.86291331 20.04406194\n",
      " 16.14402054  2.05048976 24.44512404 17.16398882 14.66598724 27.81671044\n",
      " 25.05530518 17.15527534 18.38972439 18.02279058 32.9002333  33.47130166\n",
      " 20.26151267 35.11920143 15.24483657 36.82093178 16.28502373 22.47951361\n",
      " 23.19316936 33.68414605 21.37297831 20.86892424 14.30821282]\n"
     ]
    },
    {
     "data": {
      "image/png": "[encoded data removed]",
      "text/plain": [
       "<Figure size 432x288 with 1 Axes>"
      ]
     },
     "metadata": {
      "needs_background": "light"
     },
     "output_type": "display_data"
    }
   ],
   "source": [
    "#Exercici 1 Crea almenys dos models de regressió diferents (regresion lineal)\n",
    "#explicación resultado: un valor de R-cuadrado de 0.75 indica que el modelo es capaz de explicar el 75% de la varianza en el precio de la vivienda utilizando las variables independientes incluidas en el modelo.\n",
    "#Un MSE bajo indica que el modelo es capaz de hacer predicciones precisas. En este caso, un MSE de 18.53 indica que las predicciones del modelo tienen un error promedio de raíz cuadrada de 18.53 unidades en la escala de precios de la vivienda.\n",
    "#No hay un valor de MSE específico que se considere \"bajo\" ya que esto depende del contexto del problema y de la escala de los datos.\n",
    "\n",
    "#from sklearn.linear_model import LinearRegression\n",
    "\n",
    "# Seleccionar todas las columnas numéricas del conjunto de prueba excepto la variable objetivo 'MEDV'\n",
    "X_test = test_data.drop(['MEDV'], axis=1)\n",
    "\n",
    "# Utilizar el modelo de regresión lineal entrenado para hacer predicciones en el conjunto de prueba\n",
    "y_pred = reg_model.predict(X_test)\n",
    "\n",
    "# Comparar las predicciones con los valores reales del conjunto de prueba para evaluar la calidad del modelo\n",
    "from sklearn.metrics import r2_score, mean_squared_error\n",
    "\n",
    "r2 = r2_score(test_data['MEDV'], y_pred)\n",
    "mse = mean_squared_error(test_data['MEDV'], y_pred)\n",
    "\n",
    "print('R-squared: {:.2f}'.format(r2))\n",
    "print('Mean squared error: {:.2f}'.format(mse))\n",
    "\n",
    "# Realizar predicciones sobre los datos de entrada\n",
    "y_pred = reg_model.predict(X_test)\n",
    "\n",
    "# Mostrar las predicciones\n",
    "print(y_pred)\n",
    "\n",
    "# Crear una figura y un eje\n",
    "fig, ax = plt.subplots()\n",
    "\n",
    "# Graficar los valores reales vs las predicciones\n",
    "ax.scatter(test_data['MEDV'], y_pred)\n",
    "\n",
    "# Agregar una línea de identidad\n",
    "ax.plot([0, 50], [0, 50], '--', color='gray')\n",
    "\n",
    "# Establecer etiquetas de los ejes\n",
    "ax.set_xlabel('Valores reales')\n",
    "ax.set_ylabel('Predicciones')\n",
    "\n",
    "# Mostrar el gráfico\n",
    "plt.show()"
   ]
  },
  {
   "cell_type": "code",
   "execution_count": 37,
   "id": "6948f475",
   "metadata": {},
   "outputs": [
    {
     "name": "stdout",
     "output_type": "stream",
     "text": [
      "Mean squared error: 14.95\n",
      "R-squared: 0.82\n"
     ]
    },
    {
     "data": {
      "image/png": "[encoded data removed]",
      "text/plain": [
       "<Figure size 432x288 with 1 Axes>"
      ]
     },
     "metadata": {
      "needs_background": "light"
     },
     "output_type": "display_data"
    },
    {
     "name": "stdout",
     "output_type": "stream",
     "text": [
      "Predicciones:  [22.6 44.  12.6 33.2 12.1 21.1 23.1  7.  23.3 14.2 10.8 19.4 19.4 28.7\n",
      " 19.6 37.  12.7 44.  14.9 20.  14.4  7.4 23.  18.9 19.3 10.4 16.6 13.3\n",
      " 44.8 33.4 10.5 19.6 20.5 22.9 22.4 20.8 22.8 14.8 21.1 34.9 23.1 18.8\n",
      " 17.3 48.3 21.2 23.6  8.1 23.4 11.8 20.4 15.  24.  14.4 15.4 18.  19.9\n",
      " 19.3 20.5 15.  48.5 21.2 31.1 13.5 19.1 33.4 20.9 22.9 16.3 11.7 16.1\n",
      " 13.4 19.3 24.8 19.5 22.8 31.6 13.8 27.5 22.  14.4 29.6 24.8 22.3 13.1\n",
      " 18.2 24.8 15.  21.2 23.1 33.4  7.4 15.  28.5 15.4 48.5  7.5 31.1 14.5\n",
      " 17.5 14.4 20.1]\n",
      "Valores reales:  90     22.0\n",
      "97     43.8\n",
      "477    14.6\n",
      "340    32.7\n",
      "395    12.5\n",
      "       ... \n",
      "56     31.6\n",
      "445    14.9\n",
      "60     16.0\n",
      "495    19.7\n",
      "107    19.8\n",
      "Name: MEDV, Length: 101, dtype: float64\n"
     ]
    }
   ],
   "source": [
    "#Exercici 1 Crea almenys dos models de regressió diferents (arbol)\n",
    "#from sklearn.tree import DecisionTreeRegressor\n",
    "\n",
    "# Seleccionar todas las columnas del dataset excepto la variable objetivo 'MEDV'\n",
    "X_train = train_data.drop(['MEDV'], axis=1)\n",
    "\n",
    "# Crear un objeto de árbol de decisión\n",
    "tree_model = DecisionTreeRegressor(random_state=0)\n",
    "\n",
    "# Entrenar el modelo de árbol de decisión\n",
    "tree_model.fit(X_train, train_data['MEDV'])\n",
    "\n",
    "#from sklearn.model_selection import train_test_split\n",
    "#from sklearn.tree import DecisionTreeRegressor\n",
    "#from sklearn.metrics import mean_squared_error\n",
    "\n",
    "# Dividir el conjunto de datos en conjuntos de entrenamiento y prueba\n",
    "X_train, X_test, y_train, y_test = train_test_split(datos.drop('MEDV', axis=1), datos['MEDV'], test_size=0.2, random_state=0)\n",
    "\n",
    "# Crear un objeto DecisionTreeRegressor\n",
    "tree_model = DecisionTreeRegressor(random_state=0)\n",
    "\n",
    "# Entrenar el modelo con los datos de entrenamiento\n",
    "tree_model.fit(X_train, y_train)\n",
    "\n",
    "# Realizar predicciones sobre los datos de validación\n",
    "y_pred = tree_model.predict(X_test)\n",
    "\n",
    "# Evaluar el rendimiento del modelo utilizando MSE\n",
    "mse = mean_squared_error(y_test, y_pred)\n",
    "print(\"Mean squared error: {:.2f}\".format(mse))\n",
    "\n",
    "# Calcular el coeficiente de determinación (R^2)\n",
    "r2 = r2_score(y_test, y_pred)\n",
    "print(\"R-squared: {:.2f}\".format(r2))\n",
    "\n",
    "plt.scatter(y_test, y_pred)\n",
    "plt.xlabel(\"Valores reales\")\n",
    "plt.ylabel(\"Predicciones\")\n",
    "plt.show()\n",
    "\n",
    "print(\"Predicciones: \", y_pred)\n",
    "print(\"Valores reales: \", y_test)"
   ]
  },
  {
   "cell_type": "code",
   "execution_count": null,
   "id": "35388683",
   "metadata": {},
   "outputs": [],
   "source": [
    "#exercici2: En el primer modelo, el valor de R-squared es 0.75, lo que significa que el modelo explica el 75% de la varianza de los datos de entrada. El valor de MSE es 18.53, lo que indica que las predicciones del modelo están a una distancia promedio de 18.53 unidades de la variable objetivo (MEDV) de los valores reales. \n",
    "#En el segundo modelo, el valor de R-squared es 0.82, lo que indica que el modelo explica el 82% de la varianza de los datos de entrada. El valor de MSE es 14.95, lo que significa que las predicciones del modelo están a una distancia promedio de 14.95 unidades de la variable objetivo (MEDV) de los valores reales.\n",
    "#En resumen, el segundo modelo muestra un mejor rendimiento que el primer modelo en términos de ambos métricas de evaluación."
   ]
  },
  {
   "cell_type": "code",
   "execution_count": 24,
   "id": "c9e85cf0",
   "metadata": {},
   "outputs": [
    {
     "name": "stdout",
     "output_type": "stream",
     "text": [
      "R-squared: 0.79\n",
      "Mean squared error: 17.54\n"
     ]
    }
   ],
   "source": [
    "#exercici 3. Entrena’ls utilitzant els diferents paràmetres que admeten de archivo de housing, per intentar millorar-ne la predicció.\n",
    "#En Machine Learning, los hiperparámetros son parámetros externos al modelo que se ajustan antes de iniciar el proceso de entrenamiento y que controlan cómo se lleva a cabo el entrenamiento del modelo. En otras palabras, son valores que se ajustan para optimizar el rendimiento de un modelo de aprendizaje automático.\n",
    "#En general, el ajuste de los hiperparámetros es un proceso iterativo que implica probar diferentes valores de los hiperparámetros para encontrar aquellos que optimizan el rendimiento del modelo en el conjunto de datos de entrenamiento y validación. \n",
    "\n",
    "# Seleccionar todas las columnas numéricas como variables de entrada excepto la variable objetivo 'MEDV'\n",
    "X = datos.drop(['MEDV'], axis=1)\n",
    "\n",
    "# Seleccionar la variable objetivo 'MEDV'\n",
    "y = datos['MEDV']\n",
    "\n",
    "# Dividir los datos en conjuntos de entrenamiento y prueba\n",
    "X_train, X_test, y_train, y_test = train_test_split(X, y, test_size=0.2, random_state=0)\n",
    "\n",
    "# Crear el modelo de regresión lineal\n",
    "reg_model = LinearRegression()\n",
    "\n",
    "# Entrenar el modelo con los datos de entrenamiento\n",
    "reg_model.fit(X_train, y_train)\n",
    "\n",
    "# Realizar predicciones sobre el conjunto de prueba\n",
    "y_pred = reg_model.predict(X_test)\n",
    "\n",
    "# Evaluar el rendimiento del modelo utilizando R^2 y MSE\n",
    "r2 = r2_score(y_test, y_pred)\n",
    "mse = mean_squared_error(y_test, y_pred)\n",
    "\n",
    "print(\"R-squared: {:.2f}\".format(r2))\n",
    "print(\"Mean squared error: {:.2f}\".format(mse))"
   ]
  },
  {
   "cell_type": "code",
   "execution_count": 32,
   "id": "b63c9371",
   "metadata": {},
   "outputs": [
    {
     "name": "stdout",
     "output_type": "stream",
     "text": [
      "Mean squared error: 10.70\n",
      "R-squared: 0.87\n"
     ]
    }
   ],
   "source": [
    "#exercici 3. Entrena’ls utilitzant els diferents paràmetres que admeten de archivo de housing, per intentar millorar-ne la predicció.\n",
    "#El modelo de árbol de decisión tiene varios parámetros que se pueden ajustar para mejorar el rendimiento del modelo. \n",
    "#max_depth: la profundidad máxima del árbol. Si se establece en un número más alto, el árbol puede sobreajustarse a los datos de entrenamiento, mientras que si se establece en un número más bajo, el árbol puede no ser lo suficientemente complejo como para capturar todas las relaciones en los datos.\n",
    "\n",
    "#min_samples_split: el número mínimo de muestras requeridas para dividir un nodo interno. Si se establece en un número más alto, el árbol será menos complejo, mientras que si se establece en un número más bajo, el árbol será más complejo.\n",
    "\n",
    "#min_samples_leaf: el número mínimo de muestras requeridas para estar en un nodo hoja. Si se establece en un número más alto, el árbol será menos complejo, mientras que si se establece en un número más bajo, el árbol será más complejo.\n",
    "\n",
    "\n",
    "# Seleccionar todas las columnas numéricas como variables de entrada excepto la variable objetivo 'MEDV'\n",
    "X = datos.drop(['MEDV'], axis=1)\n",
    "\n",
    "# Seleccionar la variable objetivo 'MEDV'\n",
    "y = datos['MEDV']\n",
    "\n",
    "# Dividir los datos en conjuntos de entrenamiento y prueba\n",
    "X_train, X_test, y_train, y_test = train_test_split(X, y, test_size=0.2, random_state=0)\n",
    "\n",
    "# Crear el modelo de árbol de decisión\n",
    "tree_model = DecisionTreeRegressor(random_state=0)\n",
    "\n",
    "# Definir los parámetros a ajustar y los valores a probar para cada parámetro\n",
    "params = {'max_depth': [3, 5, 7],\n",
    "          'min_samples_split': [2, 5, 10],\n",
    "          'min_samples_leaf': [1, 2, 4]}\n",
    "\n",
    "# Realizar la búsqueda de parámetros utilizando GridSearchCV\n",
    "grid_search = GridSearchCV(tree_model, params, cv=5)\n",
    "grid_search.fit(X_train, y_train)\n",
    "\n",
    "# Obtener el modelo con los mejores parámetros\n",
    "best_model = grid_search.best_estimator_\n",
    "\n",
    "# Realizar predicciones sobre el conjunto de prueba utilizando el modelo con los mejores parámetros\n",
    "y_pred = best_model.predict(X_test)\n",
    "\n",
    "# Evaluar el rendimiento del modelo utilizando R^2 y MSE\n",
    "r2 = r2_score(y_test, y_pred)\n",
    "mse = mean_squared_error(y_test, y_pred)\n",
    "\n",
    "print(\"Mean squared error: {:.2f}\".format(mse))\n",
    "print(\"R-squared: {:.2f}\".format(r2))"
   ]
  },
  {
   "cell_type": "code",
   "execution_count": 33,
   "id": "4564917a",
   "metadata": {},
   "outputs": [
    {
     "name": "stdout",
     "output_type": "stream",
     "text": [
      "Mean squared error: 8.71\n",
      "R-squared: 0.90\n"
     ]
    }
   ],
   "source": [
    "#Exercici 4 evaluar el rendimiento utilizando validacion interna:\n",
    "\n",
    "# Seleccionar todas las columnas numéricas como variables de entrada excepto la variable objetivo 'MEDV'\n",
    "X = datos.drop(['MEDV'], axis=1)\n",
    "\n",
    "# Seleccionar la variable objetivo 'MEDV'\n",
    "y = datos['MEDV']\n",
    "\n",
    "# Crear el modelo de árbol de decisión\n",
    "tree_model = DecisionTreeRegressor(random_state=0)\n",
    "\n",
    "# Definir los parámetros a ajustar y los valores a probar para cada parámetro\n",
    "params = {'max_depth': [3, 5, 7],\n",
    "          'min_samples_split': [2, 5, 10],\n",
    "          'min_samples_leaf': [1, 2, 4]}\n",
    "\n",
    "# Realizar la búsqueda de parámetros utilizando GridSearchCV\n",
    "grid_search = GridSearchCV(tree_model, params, cv=5)\n",
    "grid_search.fit(X, y)\n",
    "\n",
    "# Obtener el modelo con los mejores parámetros\n",
    "best_model = grid_search.best_estimator_\n",
    "\n",
    "# Realizar predicciones sobre los datos de entrada utilizando el modelo con los mejores parámetros\n",
    "y_pred = best_model.predict(X)\n",
    "\n",
    "# Evaluar el rendimiento del modelo utilizando R^2 y MSE\n",
    "r2 = r2_score(y, y_pred)\n",
    "mse = mean_squared_error(y, y_pred)\n",
    "\n",
    "print(\"Mean squared error: {:.2f}\".format(mse))\n",
    "print(\"R-squared: {:.2f}\".format(r2))"
   ]
  },
  {
   "cell_type": "code",
   "execution_count": null,
   "id": "42b06dd6",
   "metadata": {},
   "outputs": [],
   "source": [
    "#exercici4: En el primer modelo, el valor de R-squared es 0.87, lo que significa que el modelo explica el 87% de la varianza de los datos de entrada. El valor de MSE es 10.7, lo que indica que las predicciones del modelo están a una distancia promedio de 10.7 unidades de la variable objetivo (MEDV) de los valores reales. \n",
    "#En el segundo modelo, el valor de R-squared es 0.90, lo que indica que el modelo explica el 92% de la varianza de los datos de entrada. El valor de MSE es 8.71, lo que significa que las predicciones del modelo están a una distancia promedio de 8.71 unidades de la variable objetivo (MEDV) de los valores reales.\n",
    "#En resumen, el segundo modelo muestra un mejor rendimiento que el primer modelo en términos de ambos métricas de evaluación."
   ]
  },
  {
   "cell_type": "code",
   "execution_count": 35,
   "id": "0656f3f4",
   "metadata": {},
   "outputs": [
    {
     "name": "stdout",
     "output_type": "stream",
     "text": [
      "Mean squared error: 23.25\n",
      "R-squared: 0.72\n"
     ]
    }
   ],
   "source": [
    "# Exercici 5\n",
    "#No facis servir la variable del nombre d'habitacions (RM) a l’hora de fer prediccions.\n",
    "#Seleccionar todas las columnas numéricas como variables de entrada excepto 'RM' y la variable objetivo 'MEDV'\n",
    "X = datos.drop(['RM', 'MEDV'], axis=1)\n",
    "y = datos['MEDV']\n",
    "\n",
    "# Dividir los datos en conjuntos de entrenamiento y prueba\n",
    "X_train, X_test, y_train, y_test = train_test_split(X, y, test_size=0.2, random_state=0)\n",
    "\n",
    "# Crear el modelo de regresión lineal\n",
    "lr_model = LinearRegression()\n",
    "\n",
    "# Entrenar el modelo con los datos de entrenamiento\n",
    "lr_model.fit(X_train, y_train)\n",
    "\n",
    "# Realizar predicciones sobre el conjunto de prueba\n",
    "y_pred = lr_model.predict(X_test)\n",
    "\n",
    "# Evaluar el rendimiento del modelo utilizando R^2 y MSE\n",
    "r2 = r2_score(y_test, y_pred)\n",
    "mse = mean_squared_error(y_test, y_pred)\n",
    "\n",
    "print(\"Mean squared error: {:.2f}\".format(mse))\n",
    "print(\"R-squared: {:.2f}\".format(r2))"
   ]
  },
  {
   "cell_type": "code",
   "execution_count": null,
   "id": "d03a428d",
   "metadata": {},
   "outputs": [],
   "source": []
  }
 ],
 "metadata": {
  "kernelspec": {
   "display_name": "Python 3 (ipykernel)",
   "language": "python",
   "name": "python3"
  },
  "language_info": {
   "codemirror_mode": {
    "name": "ipython",
    "version": 3
   },
   "file_extension": ".py",
   "mimetype": "text/x-python",
   "name": "python",
   "nbconvert_exporter": "python",
   "pygments_lexer": "ipython3",
   "version": "3.9.12"
  }
 },
 "nbformat": 4,
 "nbformat_minor": 5
}
