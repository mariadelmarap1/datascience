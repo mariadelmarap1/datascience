{
 "cells": [
  {
   "cell_type": "code",
   "execution_count": 96,
   "id": "72444566",
   "metadata": {},
   "outputs": [],
   "source": [
    "import pandas as pd\n",
    "import numpy as np\n",
    "import matplotlib.pyplot as plt\n",
    "import seaborn as sns"
   ]
  },
  {
   "cell_type": "code",
   "execution_count": null,
   "id": "f8718782",
   "metadata": {},
   "outputs": [],
   "source": [
    "#Exercici 1 Descarrega el dataset adjunt i resumeix-lo estadísticament i gràficament."
   ]
  },
  {
   "cell_type": "code",
   "execution_count": 66,
   "id": "3cb44714",
   "metadata": {},
   "outputs": [
    {
     "name": "stdout",
     "output_type": "stream",
     "text": [
      "     Any  Trimestre  Codi_Districte   Nom_Districte  Codi_Barri  \\\n",
      "0   2021          1               1    Ciutat Vella           1   \n",
      "1   2021          1               1    Ciutat Vella           2   \n",
      "2   2021          1               1    Ciutat Vella           3   \n",
      "3   2021          1               1    Ciutat Vella           4   \n",
      "4   2021          1               2        Eixample           5   \n",
      "5   2021          1               2        Eixample           6   \n",
      "6   2021          1               2        Eixample           7   \n",
      "7   2021          1               2        Eixample           8   \n",
      "8   2021          1               2        Eixample           9   \n",
      "9   2021          1               2        Eixample          10   \n",
      "10  2021          1               3  Sants-Montjuïc          11   \n",
      "11  2021          1               3  Sants-Montjuïc          12   \n",
      "12  2021          1               3  Sants-Montjuïc          13   \n",
      "13  2021          1               3  Sants-Montjuïc          14   \n",
      "14  2021          1               3  Sants-Montjuïc          15   \n",
      "15  2021          1               3  Sants-Montjuïc          16   \n",
      "16  2021          1               3  Sants-Montjuïc          17   \n",
      "17  2021          1               3  Sants-Montjuïc          18   \n",
      "18  2021          1               4       Les Corts          19   \n",
      "19  2021          1               4       Les Corts          20   \n",
      "\n",
      "                                Nom_Barri                      Lloguer_mitja  \\\n",
      "0                                el Raval  Lloguer mitjà mensual (Euros/mes)   \n",
      "1                          el Barri Gòtic  Lloguer mitjà mensual (Euros/mes)   \n",
      "2                          la Barceloneta  Lloguer mitjà mensual (Euros/mes)   \n",
      "3   Sant Pere, Santa Caterina i la Ribera  Lloguer mitjà mensual (Euros/mes)   \n",
      "4                           el Fort Pienc  Lloguer mitjà mensual (Euros/mes)   \n",
      "5                      la Sagrada Família  Lloguer mitjà mensual (Euros/mes)   \n",
      "6                  la Dreta de l'Eixample  Lloguer mitjà mensual (Euros/mes)   \n",
      "7         l'Antiga Esquerra de l'Eixample  Lloguer mitjà mensual (Euros/mes)   \n",
      "8          la Nova Esquerra de l'Eixample  Lloguer mitjà mensual (Euros/mes)   \n",
      "9                             Sant Antoni  Lloguer mitjà mensual (Euros/mes)   \n",
      "10                           el Poble Sec  Lloguer mitjà mensual (Euros/mes)   \n",
      "11             la Marina del Prat Vermell  Lloguer mitjà mensual (Euros/mes)   \n",
      "12                      la Marina de Port  Lloguer mitjà mensual (Euros/mes)   \n",
      "13                  la Font de la Guatlla  Lloguer mitjà mensual (Euros/mes)   \n",
      "14                            Hostafrancs  Lloguer mitjà mensual (Euros/mes)   \n",
      "15                             la Bordeta  Lloguer mitjà mensual (Euros/mes)   \n",
      "16                          Sants - Badal  Lloguer mitjà mensual (Euros/mes)   \n",
      "17                                  Sants  Lloguer mitjà mensual (Euros/mes)   \n",
      "18                              les Corts  Lloguer mitjà mensual (Euros/mes)   \n",
      "19             la Maternitat i Sant Ramon  Lloguer mitjà mensual (Euros/mes)   \n",
      "\n",
      "      Preu  \n",
      "0    759.2  \n",
      "1    929.6  \n",
      "2    808.9  \n",
      "3    879.4  \n",
      "4    918.0  \n",
      "5    887.1  \n",
      "6   1176.7  \n",
      "7   1040.2  \n",
      "8    964.0  \n",
      "9    898.7  \n",
      "10   781.6  \n",
      "11      --  \n",
      "12   810.6  \n",
      "13   799.5  \n",
      "14   778.4  \n",
      "15   807.6  \n",
      "16   788.1  \n",
      "17   829.1  \n",
      "18   990.3  \n",
      "19   927.3  \n"
     ]
    }
   ],
   "source": [
    "#Descargo el archivo\n",
    "archivo = pd.read_csv('preu lloguer per trimestre i barri.csv')\n",
    "\n",
    "#Primero analizo un poco el archivo, puedo crear un pequeño archivo, con una muestra de las primera 20 lineas,  para hacer operaciones\n",
    "archivopequeño = archivo[:20]\n",
    "print(archivopequeño)"
   ]
  },
  {
   "cell_type": "code",
   "execution_count": 60,
   "id": "90a725a7",
   "metadata": {},
   "outputs": [
    {
     "name": "stdout",
     "output_type": "stream",
     "text": [
      "0      759.2\n",
      "1      929.6\n",
      "2      808.9\n",
      "3      879.4\n",
      "4      918.0\n",
      "       ...  \n",
      "579     15.2\n",
      "580     10.8\n",
      "581     13.8\n",
      "582     11.7\n",
      "583     11.3\n",
      "Name: Preu, Length: 584, dtype: object\n"
     ]
    }
   ],
   "source": [
    "#Puedo ver una sola columna asi:\n",
    "print(archivo['Preu'])"
   ]
  },
  {
   "cell_type": "code",
   "execution_count": 63,
   "id": "dd17246d",
   "metadata": {},
   "outputs": [
    {
     "name": "stdout",
     "output_type": "stream",
     "text": [
      "0      759.2\n",
      "1      929.6\n",
      "2      808.9\n",
      "3      879.4\n",
      "4      918.0\n",
      "5      887.1\n",
      "6     1176.7\n",
      "7     1040.2\n",
      "8      964.0\n",
      "9      898.7\n",
      "10     781.6\n",
      "11       NaN\n",
      "12     810.6\n",
      "13     799.5\n",
      "14     778.4\n",
      "15     807.6\n",
      "16     788.1\n",
      "17     829.1\n",
      "18     990.3\n",
      "19     927.3\n",
      "Name: Preu, dtype: object\n"
     ]
    }
   ],
   "source": [
    "#Primero lo hago en un archivo pequeño de 20 para ver que lo hago bien y luego pasarlo al archivo grande \n",
    "#Elimino los valores que aparecen con guión por un valor nan o nulo\n",
    "archivopq2 = archivopequeño['Preu'].replace(\"--\",np.nan)\n",
    "print(archivopq2)"
   ]
  },
  {
   "cell_type": "code",
   "execution_count": 64,
   "id": "c2a24779",
   "metadata": {},
   "outputs": [
    {
     "name": "stdout",
     "output_type": "stream",
     "text": [
      "0      759.2\n",
      "1      929.6\n",
      "2      808.9\n",
      "3      879.4\n",
      "4      918.0\n",
      "5      887.1\n",
      "6     1176.7\n",
      "7     1040.2\n",
      "8      964.0\n",
      "9      898.7\n",
      "10     781.6\n",
      "12     810.6\n",
      "13     799.5\n",
      "14     778.4\n",
      "15     807.6\n",
      "16     788.1\n",
      "17     829.1\n",
      "18     990.3\n",
      "19     927.3\n",
      "Name: Preu, dtype: object\n"
     ]
    }
   ],
   "source": [
    "#elimino valores nan  \n",
    "archivopq2 = archivopq2.dropna()\n",
    "print(archivopq2)"
   ]
  },
  {
   "cell_type": "code",
   "execution_count": 68,
   "id": "e036255a",
   "metadata": {},
   "outputs": [
    {
     "name": "stdout",
     "output_type": "stream",
     "text": [
      "      Any  Trimestre  Codi_Districte Nom_Districte  Codi_Barri  \\\n",
      "0    2021          1               1  Ciutat Vella           1   \n",
      "1    2021          1               1  Ciutat Vella           2   \n",
      "2    2021          1               1  Ciutat Vella           3   \n",
      "3    2021          1               1  Ciutat Vella           4   \n",
      "4    2021          1               2      Eixample           5   \n",
      "..    ...        ...             ...           ...         ...   \n",
      "579  2021          4              10    Sant Martí          69   \n",
      "580  2021          4              10    Sant Martí          70   \n",
      "581  2021          4              10    Sant Martí          71   \n",
      "582  2021          4              10    Sant Martí          72   \n",
      "583  2021          4              10    Sant Martí          73   \n",
      "\n",
      "                                        Nom_Barri  \\\n",
      "0                                        el Raval   \n",
      "1                                  el Barri Gòtic   \n",
      "2                                  la Barceloneta   \n",
      "3           Sant Pere, Santa Caterina i la Ribera   \n",
      "4                                   el Fort Pienc   \n",
      "..                                            ...   \n",
      "579  Diagonal Mar i el Front Marítim del Poblenou   \n",
      "580                         el Besòs i el Maresme   \n",
      "581                       Provençals del Poblenou   \n",
      "582                      Sant Martí de Provençals   \n",
      "583                           la Verneda i la Pau   \n",
      "\n",
      "                                   Lloguer_mitja   Preu  \n",
      "0              Lloguer mitjà mensual (Euros/mes)  759.2  \n",
      "1              Lloguer mitjà mensual (Euros/mes)  929.6  \n",
      "2              Lloguer mitjà mensual (Euros/mes)  808.9  \n",
      "3              Lloguer mitjà mensual (Euros/mes)  879.4  \n",
      "4              Lloguer mitjà mensual (Euros/mes)  918.0  \n",
      "..                                           ...    ...  \n",
      "579  Lloguer mitjà per superfície (Euros/m2 mes)   15.2  \n",
      "580  Lloguer mitjà per superfície (Euros/m2 mes)   10.8  \n",
      "581  Lloguer mitjà per superfície (Euros/m2 mes)   13.8  \n",
      "582  Lloguer mitjà per superfície (Euros/m2 mes)   11.7  \n",
      "583  Lloguer mitjà per superfície (Euros/m2 mes)   11.3  \n",
      "\n",
      "[584 rows x 8 columns]\n"
     ]
    }
   ],
   "source": [
    "#ahora lo hago en archivo grande lo mismo: \n",
    "#ojo los string van en \"\"\n",
    "copyarchivo = archivo.replace(\"--\",np.nan)\n",
    "print(copyarchivo)"
   ]
  },
  {
   "cell_type": "code",
   "execution_count": 70,
   "id": "8ff5ee51",
   "metadata": {},
   "outputs": [
    {
     "name": "stdout",
     "output_type": "stream",
     "text": [
      "     Any  Trimestre  Codi_Districte   Nom_Districte  Codi_Barri  \\\n",
      "0   2021          1               1    Ciutat Vella           1   \n",
      "1   2021          1               1    Ciutat Vella           2   \n",
      "2   2021          1               1    Ciutat Vella           3   \n",
      "3   2021          1               1    Ciutat Vella           4   \n",
      "4   2021          1               2        Eixample           5   \n",
      "5   2021          1               2        Eixample           6   \n",
      "6   2021          1               2        Eixample           7   \n",
      "7   2021          1               2        Eixample           8   \n",
      "8   2021          1               2        Eixample           9   \n",
      "9   2021          1               2        Eixample          10   \n",
      "10  2021          1               3  Sants-Montjuïc          11   \n",
      "12  2021          1               3  Sants-Montjuïc          13   \n",
      "13  2021          1               3  Sants-Montjuïc          14   \n",
      "14  2021          1               3  Sants-Montjuïc          15   \n",
      "15  2021          1               3  Sants-Montjuïc          16   \n",
      "16  2021          1               3  Sants-Montjuïc          17   \n",
      "17  2021          1               3  Sants-Montjuïc          18   \n",
      "18  2021          1               4       Les Corts          19   \n",
      "19  2021          1               4       Les Corts          20   \n",
      "20  2021          1               4       Les Corts          21   \n",
      "\n",
      "                                Nom_Barri                      Lloguer_mitja  \\\n",
      "0                                el Raval  Lloguer mitjà mensual (Euros/mes)   \n",
      "1                          el Barri Gòtic  Lloguer mitjà mensual (Euros/mes)   \n",
      "2                          la Barceloneta  Lloguer mitjà mensual (Euros/mes)   \n",
      "3   Sant Pere, Santa Caterina i la Ribera  Lloguer mitjà mensual (Euros/mes)   \n",
      "4                           el Fort Pienc  Lloguer mitjà mensual (Euros/mes)   \n",
      "5                      la Sagrada Família  Lloguer mitjà mensual (Euros/mes)   \n",
      "6                  la Dreta de l'Eixample  Lloguer mitjà mensual (Euros/mes)   \n",
      "7         l'Antiga Esquerra de l'Eixample  Lloguer mitjà mensual (Euros/mes)   \n",
      "8          la Nova Esquerra de l'Eixample  Lloguer mitjà mensual (Euros/mes)   \n",
      "9                             Sant Antoni  Lloguer mitjà mensual (Euros/mes)   \n",
      "10                           el Poble Sec  Lloguer mitjà mensual (Euros/mes)   \n",
      "12                      la Marina de Port  Lloguer mitjà mensual (Euros/mes)   \n",
      "13                  la Font de la Guatlla  Lloguer mitjà mensual (Euros/mes)   \n",
      "14                            Hostafrancs  Lloguer mitjà mensual (Euros/mes)   \n",
      "15                             la Bordeta  Lloguer mitjà mensual (Euros/mes)   \n",
      "16                          Sants - Badal  Lloguer mitjà mensual (Euros/mes)   \n",
      "17                                  Sants  Lloguer mitjà mensual (Euros/mes)   \n",
      "18                              les Corts  Lloguer mitjà mensual (Euros/mes)   \n",
      "19             la Maternitat i Sant Ramon  Lloguer mitjà mensual (Euros/mes)   \n",
      "20                              Pedralbes  Lloguer mitjà mensual (Euros/mes)   \n",
      "\n",
      "      Preu  \n",
      "0    759.2  \n",
      "1    929.6  \n",
      "2    808.9  \n",
      "3    879.4  \n",
      "4    918.0  \n",
      "5    887.1  \n",
      "6   1176.7  \n",
      "7   1040.2  \n",
      "8    964.0  \n",
      "9    898.7  \n",
      "10   781.6  \n",
      "12   810.6  \n",
      "13   799.5  \n",
      "14   778.4  \n",
      "15   807.6  \n",
      "16   788.1  \n",
      "17   829.1  \n",
      "18   990.3  \n",
      "19   927.3  \n",
      "20  1598.2  \n"
     ]
    }
   ],
   "source": [
    "copyarchivo = copyarchivo.dropna()\n",
    "print(copyarchivo[:20])"
   ]
  },
  {
   "cell_type": "code",
   "execution_count": 78,
   "id": "0064c468",
   "metadata": {},
   "outputs": [],
   "source": [
    "#convierto el string a float para poder calcular \n",
    "copyarchivo['Preu'] = copyarchivo['Preu'].astype(float)"
   ]
  },
  {
   "cell_type": "code",
   "execution_count": 79,
   "id": "253a391b",
   "metadata": {},
   "outputs": [
    {
     "name": "stdout",
     "output_type": "stream",
     "text": [
      "La media de precio es\n",
      "442.15722222222234\n"
     ]
    }
   ],
   "source": [
    "print(\"La media de precio es\")\n",
    "print(str(copyarchivo['Preu'].mean()))"
   ]
  },
  {
   "cell_type": "code",
   "execution_count": 95,
   "id": "67fd112c",
   "metadata": {},
   "outputs": [
    {
     "name": "stdout",
     "output_type": "stream",
     "text": [
      "El conteo, media, desviación estándar, mínimo, primer cuartil, mediana, tercer cuartil y máximo de los datos, de precio es\n"
     ]
    },
    {
     "data": {
      "text/plain": [
       "count     540.000000\n",
       "mean      442.157222\n",
       "std       457.358745\n",
       "min         6.700000\n",
       "25%        12.775000\n",
       "50%       232.750000\n",
       "75%       815.875000\n",
       "max      1816.500000\n",
       "Name: Preu, dtype: float64"
      ]
     },
     "execution_count": 95,
     "metadata": {},
     "output_type": "execute_result"
    }
   ],
   "source": [
    "print(\"El conteo, media, desviación estándar, mínimo, primer cuartil, mediana, tercer cuartil y máximo de los datos, de precio es\")\n",
    "copyarchivo['Preu'].describe()"
   ]
  },
  {
   "cell_type": "code",
   "execution_count": 91,
   "id": "1cae613e",
   "metadata": {},
   "outputs": [
    {
     "data": {
      "text/plain": [
       "Nom_Districte\n",
       "Ciutat Vella           436.350000\n",
       "Eixample               506.922917\n",
       "Gràcia                 445.322500\n",
       "Horta-Guinardó         388.497500\n",
       "Les Corts              614.037500\n",
       "Nou Barris             337.607500\n",
       "Sant Andreu            366.175000\n",
       "Sant Martí             464.945000\n",
       "Sants-Montjuïc         405.805357\n",
       "Sarrià-Sant Gervasi    643.112500\n",
       "Name: Preu, dtype: float64"
      ]
     },
     "execution_count": 91,
     "metadata": {},
     "output_type": "execute_result"
    }
   ],
   "source": [
    "#la media de precios segun el distrito es: \n",
    "copyarchivo.groupby('Nom_Districte')['Preu'].mean()"
   ]
  },
  {
   "cell_type": "code",
   "execution_count": 93,
   "id": "52f5f80e",
   "metadata": {},
   "outputs": [
    {
     "data": {
      "text/plain": [
       "Nom_Districte\n",
       "Ciutat Vella            968.4\n",
       "Eixample               1220.8\n",
       "Gràcia                  961.0\n",
       "Horta-Guinardó          884.2\n",
       "Les Corts              1816.5\n",
       "Nou Barris              803.7\n",
       "Sant Andreu             827.2\n",
       "Sant Martí             1364.7\n",
       "Sants-Montjuïc          872.5\n",
       "Sarrià-Sant Gervasi    1597.4\n",
       "Name: Preu, dtype: float64"
      ]
     },
     "execution_count": 93,
     "metadata": {},
     "output_type": "execute_result"
    }
   ],
   "source": [
    "#El valor max. de precios segun el distrito es: \n",
    "copyarchivo.groupby('Nom_Districte')['Preu'].max()"
   ]
  },
  {
   "cell_type": "code",
   "execution_count": 94,
   "id": "054c2a74",
   "metadata": {},
   "outputs": [
    {
     "data": {
      "text/plain": [
       "Nom_Districte\n",
       "Ciutat Vella           12.3\n",
       "Eixample               12.5\n",
       "Gràcia                 12.1\n",
       "Horta-Guinardó          9.5\n",
       "Les Corts              12.5\n",
       "Nou Barris              8.1\n",
       "Sant Andreu             6.7\n",
       "Sant Martí             10.8\n",
       "Sants-Montjuïc         10.2\n",
       "Sarrià-Sant Gervasi    11.4\n",
       "Name: Preu, dtype: float64"
      ]
     },
     "execution_count": 94,
     "metadata": {},
     "output_type": "execute_result"
    }
   ],
   "source": [
    "#El valor min. de precios segun el distrito es: \n",
    "copyarchivo.groupby('Nom_Districte')['Preu'].min()"
   ]
  },
  {
   "cell_type": "code",
   "execution_count": 92,
   "id": "f437987b",
   "metadata": {},
   "outputs": [
    {
     "data": {
      "text/plain": [
       "Nom_Barri\n",
       "Baró de Viver                                   270.0250\n",
       "Can Baró                                        384.5125\n",
       "Canyelles                                       375.8500\n",
       "Ciutat Meridiana                                267.3000\n",
       "Diagonal Mar i el Front Marítim del Poblenou    544.7375\n",
       "                                                  ...   \n",
       "la Vila Olímpica del Poblenou                   665.2750\n",
       "la Vila de Gràcia                               457.5875\n",
       "les Corts                                       514.3750\n",
       "les Roquetes                                    316.4625\n",
       "les Tres Torres                                 779.2250\n",
       "Name: Preu, Length: 68, dtype: float64"
      ]
     },
     "execution_count": 92,
     "metadata": {},
     "output_type": "execute_result"
    }
   ],
   "source": [
    "#El promedio de precios segun el barrio es:\n",
    "copyarchivo.groupby('Nom_Barri')['Preu'].mean()"
   ]
  },
  {
   "cell_type": "code",
   "execution_count": 99,
   "id": "f45284f4",
   "metadata": {},
   "outputs": [
    {
     "data": {
      "image/png": "[encoded data removed]",
      "text/plain": [
       "<Figure size 432x288 with 1 Axes>"
      ]
     },
     "metadata": {
      "needs_background": "light"
     },
     "output_type": "display_data"
    }
   ],
   "source": [
    "#Exercici 1: Crea almenys una visualització per: Una variable categòrica (Districte)\n",
    "sns.countplot(x=copyarchivo['Nom_Districte'])\n",
    "plt.xticks(rotation=90)\n",
    "plt.show()"
   ]
  },
  {
   "cell_type": "code",
   "execution_count": 111,
   "id": "90546107",
   "metadata": {
    "scrolled": true
   },
   "outputs": [
    {
     "data": {
      "text/plain": [
       "(array([270.,   0.,   5.,  53., 127.,  52.,  14.,  11.,   5.,   3.]),\n",
       " array([   6.7 ,  187.68,  368.66,  549.64,  730.62,  911.6 , 1092.58,\n",
       "        1273.56, 1454.54, 1635.52, 1816.5 ]),\n",
       " <BarContainer object of 10 artists>)"
      ]
     },
     "execution_count": 111,
     "metadata": {},
     "output_type": "execute_result"
    },
    {
     "data": {
      "image/png": "[encoded data removed]",
      "text/plain": [
       "<Figure size 432x288 with 1 Axes>"
      ]
     },
     "metadata": {
      "needs_background": "light"
     },
     "output_type": "display_data"
    }
   ],
   "source": [
    "#Exercici 1: Crea almenys una visualització per: Una variable numèrica (Preu)\n",
    "#para una variable categorica numerica utilizo el histograma\n",
    "plt.hist(copyarchivo['Preu'])"
   ]
  },
  {
   "cell_type": "code",
   "execution_count": 134,
   "id": "2e2b5ef8",
   "metadata": {},
   "outputs": [
    {
     "data": {
      "text/plain": [
       "Text(0, 0.5, 'Frecuencia')"
      ]
     },
     "execution_count": 134,
     "metadata": {},
     "output_type": "execute_result"
    },
    {
     "data": {
      "image/png": "[encoded data removed]",
      "text/plain": [
       "<Figure size 432x288 with 1 Axes>"
      ]
     },
     "metadata": {
      "needs_background": "light"
     },
     "output_type": "display_data"
    }
   ],
   "source": [
    "#Exercici 1: Crea almenys una visualització per: Una variable numèrica (Preu)\n",
    "#para una variable categorica numerica utilizo el histograma pero esta es otra opcion:\n",
    "# crea el histograma con 10 barras que muestra la distribución de frecuencia de los valores de \"Preu\" entre 500 y 1500\n",
    "plt.hist(copyarchivo['Preu'], bins=10, range=(500,1500))\n",
    "\n",
    "# Obtener instancia de Axes del gráfico actual\n",
    "ax = plt.gca()\n",
    "\n",
    "# Establecer etiquetas para el eje x y y\n",
    "ax.set_xlabel('Precios')\n",
    "ax.set_ylabel('Frecuencia')"
   ]
  },
  {
   "cell_type": "code",
   "execution_count": 133,
   "id": "688be44d",
   "metadata": {},
   "outputs": [
    {
     "data": {
      "image/png": "[encoded data removed]",
      "text/plain": [
       "<Figure size 432x288 with 1 Axes>"
      ]
     },
     "metadata": {
      "needs_background": "light"
     },
     "output_type": "display_data"
    }
   ],
   "source": [
    "#Exercici 1: Crea almenys una visualització per: Una variable numèrica i una categòrica (Districte i Preu)\n",
    "plt.bar(copyarchivo['Nom_Districte'],copyarchivo['Preu'])\n",
    "plt.xticks(rotation=90)  # rota las etiquetas en el eje x 90 grados\n",
    "plt.xlabel(\"Nombre distritos\")  # le pone nombre al eje x\n",
    "plt.ylabel(\"Precios\")  # le pone nombre al eje y\n",
    "plt.show()"
   ]
  },
  {
   "cell_type": "code",
   "execution_count": 115,
   "id": "d57dee28",
   "metadata": {},
   "outputs": [
    {
     "data": {
      "image/png": "[encoded data removed]",
      "text/plain": [
       "<Figure size 432x288 with 1 Axes>"
      ]
     },
     "metadata": {
      "needs_background": "light"
     },
     "output_type": "display_data"
    }
   ],
   "source": [
    "#Ejercicio 1: Crea  una visualización para: Dos variables numéricas( Trimestre i Preu)\n",
    "sns.scatterplot(x=copyarchivo['Trimestre'], y=copyarchivo['Preu'], data=copyarchivo)\n",
    "plt.show()"
   ]
  },
  {
   "cell_type": "code",
   "execution_count": 119,
   "id": "3fb27133",
   "metadata": {},
   "outputs": [
    {
     "data": {
      "image/png": "[encoded data removed]",
      "text/plain": [
       "<Figure size 432x288 with 1 Axes>"
      ]
     },
     "metadata": {
      "needs_background": "light"
     },
     "output_type": "display_data"
    }
   ],
   "source": [
    "#Ejercicio 1: Crea  una visualización para: Tres variables (Barri o Districte, Trimestre i Preu)\n",
    "sns.lineplot(x=copyarchivo['Trimestre'], y=copyarchivo['Preu'], hue=copyarchivo['Nom_Districte'], data=copyarchivo)\n",
    "plt.show()"
   ]
  },
  {
   "cell_type": "code",
   "execution_count": 149,
   "id": "c64087fe",
   "metadata": {},
   "outputs": [
    {
     "data": {
      "text/plain": [
       "<matplotlib.legend.Legend at 0x12e209310>"
      ]
     },
     "execution_count": 149,
     "metadata": {},
     "output_type": "execute_result"
    },
    {
     "data": {
      "image/png": "[encoded data removed]",
      "text/plain": [
       "<Figure size 432x288 with 1 Axes>"
      ]
     },
     "metadata": {
      "needs_background": "light"
     },
     "output_type": "display_data"
    }
   ],
   "source": [
    "# Filtra los datos para incluir solo el barrio \"Barrio1\"\n",
    "Eixample = copyarchivo[copyarchivo['Nom_Districte'] == \"Eixample\"]\n",
    "\n",
    "# Crea el gráfico de puntos\n",
    "plt.plot(Eixample['Trimestre'], Eixample['Preu'],'o', color='blue', label='Eixample')\n",
    "\n",
    "# Agrega etiquetas a los ejes y un título al gráfico\n",
    "plt.xlabel('Trimestre')\n",
    "plt.ylabel('Precio')\n",
    "plt.title('Precios de Eixample vs Gracia a lo largo del tiempo')\n",
    "\n",
    "# Seleccionar los datos del barrio 'Barrio 2'\n",
    "Gràcia = copyarchivo[copyarchivo['Nom_Districte'] == 'Gràcia']\n",
    "\n",
    "# Agregar los datos de 'Barrio 2' a la gráfica de puntos\n",
    "plt.plot(Gràcia['Trimestre'], Gràcia['Preu'],'o', color='orange', label='Gracia')\n",
    "\n",
    "plt.legend()\n",
    "\n",
    "plt.legend(bbox_to_anchor=(1.04,1), borderaxespad=0)"
   ]
  },
  {
   "cell_type": "code",
   "execution_count": null,
   "id": "1d6f7ead",
   "metadata": {},
   "outputs": [],
   "source": []
  }
 ],
 "metadata": {
  "kernelspec": {
   "display_name": "Python 3 (ipykernel)",
   "language": "python",
   "name": "python3"
  },
  "language_info": {
   "codemirror_mode": {
    "name": "ipython",
    "version": 3
   },
   "file_extension": ".py",
   "mimetype": "text/x-python",
   "name": "python",
   "nbconvert_exporter": "python",
   "pygments_lexer": "ipython3",
   "version": "3.9.12"
  }
 },
 "nbformat": 4,
 "nbformat_minor": 5
}
