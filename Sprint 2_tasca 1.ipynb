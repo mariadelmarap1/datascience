{
 "cells": [
  {
   "cell_type": "code",
   "execution_count": null,
   "id": "f48a0c99",
   "metadata": {},
   "outputs": [],
   "source": [
    "#Exercici 1"
   ]
  },
  {
   "cell_type": "code",
   "execution_count": 3,
   "id": "7e50fc66",
   "metadata": {},
   "outputs": [],
   "source": [
    "trimestres = [[\"gener\", \"febrer\", \"març\"], [\"abril\", \"maig\", \"juny\"],[\"juliol\", \"agost\", \"setembre\"],[\"octubre\", \"novembre\", \"desembre\"]]"
   ]
  },
  {
   "cell_type": "code",
   "execution_count": 4,
   "id": "189f6c25",
   "metadata": {},
   "outputs": [
    {
     "name": "stdout",
     "output_type": "stream",
     "text": [
      "[['gener', 'febrer', 'març'], ['abril', 'maig', 'juny'], ['juliol', 'agost', 'setembre'], ['octubre', 'novembre', 'desembre']]\n"
     ]
    }
   ],
   "source": [
    "print(trimestres)"
   ]
  },
  {
   "cell_type": "code",
   "execution_count": null,
   "id": "c5e14016",
   "metadata": {},
   "outputs": [],
   "source": [
    "#Exercici 2"
   ]
  },
  {
   "cell_type": "code",
   "execution_count": 23,
   "id": "3c48f650",
   "metadata": {},
   "outputs": [
    {
     "data": {
      "text/plain": [
       "'febrer'"
      ]
     },
     "execution_count": 23,
     "metadata": {},
     "output_type": "execute_result"
    }
   ],
   "source": [
    "trimestres[0][1]"
   ]
  },
  {
   "cell_type": "code",
   "execution_count": 24,
   "id": "eafcac13",
   "metadata": {},
   "outputs": [
    {
     "data": {
      "text/plain": [
       "['gener', 'febrer', 'març']"
      ]
     },
     "execution_count": 24,
     "metadata": {},
     "output_type": "execute_result"
    }
   ],
   "source": [
    "trimestres[0]"
   ]
  },
  {
   "cell_type": "code",
   "execution_count": 36,
   "id": "145d46c7",
   "metadata": {},
   "outputs": [
    {
     "data": {
      "text/plain": [
       "'setembre y octubre'"
      ]
     },
     "execution_count": 36,
     "metadata": {},
     "output_type": "execute_result"
    }
   ],
   "source": [
    "trimestres[2][2]+\" y \"+trimestres[3][0]"
   ]
  },
  {
   "cell_type": "code",
   "execution_count": null,
   "id": "82e518b0",
   "metadata": {},
   "outputs": [],
   "source": [
    "#Exercici 3"
   ]
  },
  {
   "cell_type": "code",
   "execution_count": 90,
   "id": "b9bf963c",
   "metadata": {},
   "outputs": [],
   "source": [
    "test = [7,8,9,5,6,5,3,5,3,4,1]"
   ]
  },
  {
   "cell_type": "code",
   "execution_count": 107,
   "id": "d72927e1",
   "metadata": {},
   "outputs": [
    {
     "name": "stdout",
     "output_type": "stream",
     "text": [
      "11\n"
     ]
    }
   ],
   "source": [
    "#Quants números hi ha?\n",
    "print(len(test))\n"
   ]
  },
  {
   "cell_type": "code",
   "execution_count": 108,
   "id": "e7188a5c",
   "metadata": {},
   "outputs": [
    {
     "data": {
      "text/plain": [
       "2"
      ]
     },
     "execution_count": 108,
     "metadata": {},
     "output_type": "execute_result"
    }
   ],
   "source": [
    "#Quantes vegades apareix el número 3.\n",
    "(test.count(3))"
   ]
  },
  {
   "cell_type": "code",
   "execution_count": 109,
   "id": "31620543",
   "metadata": {},
   "outputs": [
    {
     "data": {
      "text/plain": [
       "3"
      ]
     },
     "execution_count": 109,
     "metadata": {},
     "output_type": "execute_result"
    }
   ],
   "source": [
    "#Quantes vegades apareixen els nombres 3 i 4?\n",
    "(test.count(3))+ (test.count(4))"
   ]
  },
  {
   "cell_type": "code",
   "execution_count": 110,
   "id": "6482c00c",
   "metadata": {},
   "outputs": [
    {
     "data": {
      "text/plain": [
       "9"
      ]
     },
     "execution_count": 110,
     "metadata": {},
     "output_type": "execute_result"
    }
   ],
   "source": [
    "#Quin és el número més gran?\n",
    "(max(test))"
   ]
  },
  {
   "cell_type": "code",
   "execution_count": 111,
   "id": "fe0ab91d",
   "metadata": {},
   "outputs": [
    {
     "data": {
      "text/plain": [
       "[1, 3, 3, 4, 5, 5, 5, 6, 7, 8, 9]"
      ]
     },
     "execution_count": 111,
     "metadata": {},
     "output_type": "execute_result"
    }
   ],
   "source": [
    "#Quins són els 3 números més petits?\n",
    "sorted(test)"
   ]
  },
  {
   "cell_type": "code",
   "execution_count": 96,
   "id": "06e8ff7a",
   "metadata": {},
   "outputs": [
    {
     "data": {
      "text/plain": [
       "{1, 3, 4, 5, 6, 7, 8, 9}"
      ]
     },
     "execution_count": 96,
     "metadata": {},
     "output_type": "execute_result"
    }
   ],
   "source": [
    "set(test)"
   ]
  },
  {
   "cell_type": "code",
   "execution_count": 97,
   "id": "ffd1a52b",
   "metadata": {},
   "outputs": [],
   "source": [
    "test2=set(test)"
   ]
  },
  {
   "cell_type": "code",
   "execution_count": 98,
   "id": "8c9ecc22",
   "metadata": {},
   "outputs": [
    {
     "data": {
      "text/plain": [
       "[1, 3, 4, 5, 6, 7, 8, 9]"
      ]
     },
     "execution_count": 98,
     "metadata": {},
     "output_type": "execute_result"
    }
   ],
   "source": [
    "list(test2)"
   ]
  },
  {
   "cell_type": "code",
   "execution_count": 99,
   "id": "df021afd",
   "metadata": {},
   "outputs": [],
   "source": [
    "test3=list(test2)"
   ]
  },
  {
   "cell_type": "code",
   "execution_count": 100,
   "id": "283bff51",
   "metadata": {},
   "outputs": [
    {
     "data": {
      "text/plain": [
       "[1, 3, 4]"
      ]
     },
     "execution_count": 100,
     "metadata": {},
     "output_type": "execute_result"
    }
   ],
   "source": [
    "test3[:3]"
   ]
  },
  {
   "cell_type": "code",
   "execution_count": 106,
   "id": "6606d9a7",
   "metadata": {},
   "outputs": [
    {
     "data": {
      "text/plain": [
       "1"
      ]
     },
     "execution_count": 106,
     "metadata": {},
     "output_type": "execute_result"
    }
   ],
   "source": [
    "#Quin és el rang d’aquesta llista?\n",
    "min(test)"
   ]
  },
  {
   "cell_type": "code",
   "execution_count": 112,
   "id": "8cd071f4",
   "metadata": {},
   "outputs": [
    {
     "data": {
      "text/plain": [
       "9"
      ]
     },
     "execution_count": 112,
     "metadata": {},
     "output_type": "execute_result"
    }
   ],
   "source": [
    "max(test)"
   ]
  },
  {
   "cell_type": "code",
   "execution_count": null,
   "id": "bcd4f1a5",
   "metadata": {},
   "outputs": [],
   "source": [
    "#Exercici 4"
   ]
  },
  {
   "cell_type": "code",
   "execution_count": 113,
   "id": "a77a14ee",
   "metadata": {},
   "outputs": [],
   "source": [
    "compra = { \"Pomes\" : {\"Qty\": 5, \"€\": 0.42}, \"Peres\" : {\"Qty\": 3, \"€\": 0.66} }"
   ]
  },
  {
   "cell_type": "code",
   "execution_count": 116,
   "id": "eecd862d",
   "metadata": {},
   "outputs": [],
   "source": [
    "#Afegeix alguna fruita més\n",
    "compra['Bananas'] = {\"Qty\": 2, \"€\": 0.22}"
   ]
  },
  {
   "cell_type": "code",
   "execution_count": 115,
   "id": "64ba1afc",
   "metadata": {},
   "outputs": [
    {
     "name": "stdout",
     "output_type": "stream",
     "text": [
      "{'Pomes': {'Qty': 5, '€': 0.42}, 'Peres': {'Qty': 3, '€': 0.66}, 'Bananas': {'Qty': 2, '€': 0.22}}\n"
     ]
    }
   ],
   "source": [
    "#Afegeix alguna fruita més\n",
    "print(compra)"
   ]
  },
  {
   "cell_type": "code",
   "execution_count": 121,
   "id": "c774a8a8",
   "metadata": {},
   "outputs": [
    {
     "data": {
      "text/plain": [
       "3"
      ]
     },
     "execution_count": 121,
     "metadata": {},
     "output_type": "execute_result"
    }
   ],
   "source": [
    "#Quant han costat les peres en total?\n",
    "compra ['Peres']['Qty']"
   ]
  },
  {
   "cell_type": "code",
   "execution_count": 126,
   "id": "90469a7c",
   "metadata": {},
   "outputs": [],
   "source": [
    "qntperes=compra ['Peres']['Qty']"
   ]
  },
  {
   "cell_type": "code",
   "execution_count": 122,
   "id": "4f4cb45f",
   "metadata": {},
   "outputs": [
    {
     "data": {
      "text/plain": [
       "0.66"
      ]
     },
     "execution_count": 122,
     "metadata": {},
     "output_type": "execute_result"
    }
   ],
   "source": [
    "compra ['Peres']['€']"
   ]
  },
  {
   "cell_type": "code",
   "execution_count": 125,
   "id": "cd3757c8",
   "metadata": {},
   "outputs": [],
   "source": [
    "precioperes=compra ['Peres']['€']"
   ]
  },
  {
   "cell_type": "code",
   "execution_count": 127,
   "id": "d3276b1a",
   "metadata": {},
   "outputs": [
    {
     "data": {
      "text/plain": [
       "1.98"
      ]
     },
     "execution_count": 127,
     "metadata": {},
     "output_type": "execute_result"
    }
   ],
   "source": [
    "qntperes*precioperes"
   ]
  },
  {
   "cell_type": "code",
   "execution_count": 134,
   "id": "d563a403",
   "metadata": {},
   "outputs": [
    {
     "name": "stdout",
     "output_type": "stream",
     "text": [
      "10\n"
     ]
    }
   ],
   "source": [
    "#Quantes fruites hem comprat en total?\n",
    "compra ['Pomes']['Qty']\n",
    "qntpomes=compra ['Pomes']['Qty']\n",
    "qntbananas=compra ['Bananas']['Qty']\n",
    "qntfruites=qntpomes+qntperes+qntbananas\n",
    "print(qntfruites)"
   ]
  },
  {
   "cell_type": "code",
   "execution_count": 137,
   "id": "607c487e",
   "metadata": {
    "scrolled": true
   },
   "outputs": [
    {
     "name": "stdout",
     "output_type": "stream",
     "text": [
      "0.42 0.66 0.22\n"
     ]
    }
   ],
   "source": [
    "#Quina és la fruita més cara?\n",
    "preciopomes=compra ['Pomes']['€']\n",
    "precioperes=compra ['Peres']['€']\n",
    "preciobananas=compra ['Bananas']['€']\n",
    "print(preciopomes,precioperes,preciobananas)"
   ]
  },
  {
   "cell_type": "code",
   "execution_count": 144,
   "id": "1fa4af54",
   "metadata": {},
   "outputs": [],
   "source": [
    "compra2 = [preciopomes,precioperes,preciobananas]"
   ]
  },
  {
   "cell_type": "code",
   "execution_count": 145,
   "id": "e254d6ba",
   "metadata": {},
   "outputs": [
    {
     "data": {
      "text/plain": [
       "0.66"
      ]
     },
     "execution_count": 145,
     "metadata": {},
     "output_type": "execute_result"
    }
   ],
   "source": [
    "max(compra2)"
   ]
  },
  {
   "cell_type": "code",
   "execution_count": null,
   "id": "23a6b281",
   "metadata": {},
   "outputs": [],
   "source": []
  }
 ],
 "metadata": {
  "kernelspec": {
   "display_name": "Python 3 (ipykernel)",
   "language": "python",
   "name": "python3"
  },
  "language_info": {
   "codemirror_mode": {
    "name": "ipython",
    "version": 3
   },
   "file_extension": ".py",
   "mimetype": "text/x-python",
   "name": "python",
   "nbconvert_exporter": "python",
   "pygments_lexer": "ipython3",
   "version": "3.9.12"
  }
 },
 "nbformat": 4,
 "nbformat_minor": 5
}
