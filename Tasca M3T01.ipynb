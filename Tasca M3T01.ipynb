{
 "cells": [
  {
   "cell_type": "code",
   "execution_count": 62,
   "id": "68424f2c",
   "metadata": {},
   "outputs": [
    {
     "name": "stdout",
     "output_type": "stream",
     "text": [
      "[ 6  9 12 15 18  6 12]\n"
     ]
    }
   ],
   "source": [
    "#exercici 1: Crea una funció que donat un Array d’una dimensió. \n",
    "import numpy as np\n",
    "from scipy import stats\n",
    "import pandas as pd\n",
    "import math \n",
    "\n",
    "a = np.array([6,9,12,15,18,6,12])\n",
    "print(a)"
   ]
  },
  {
   "cell_type": "code",
   "execution_count": 24,
   "id": "49692080",
   "metadata": {},
   "outputs": [
    {
     "name": "stdout",
     "output_type": "stream",
     "text": [
      "La media es: 11.142857142857142\n",
      "La mediana es: 12.0\n",
      "La Desviación estándar es: 4.15515416349971\n",
      "La Varianza es: 17.26530612244898\n",
      "La Moda es: ModeResult(mode=array([6]), count=array([2]))\n",
      "La Correlación es: 1.0\n",
      "La Covarianza es: 20.142857142857142\n",
      "El número mínimo es: 6\n",
      "El número máximo es: 18\n",
      "El rango es: 12\n",
      "Error: El array tiene más de una dimensión.\n"
     ]
    }
   ],
   "source": [
    "#Et faci un resum estadístic bàsic de les dades\n",
    "#Media\n",
    "def RS(arr):\n",
    "    if arr.ndim > 1:\n",
    "        print(\"Error: El array tiene más de una dimensión.\")\n",
    "    else:\n",
    "        print(\"La media es: \"+str(arr.mean()))\n",
    "        print(\"La mediana es: \"+str(np.median(arr)))\n",
    "        print(\"La Desviación estándar es: \"+str(np.std(arr)))\n",
    "        print(\"La Varianza es: \"+str(np.var(arr)))\n",
    "        print(\"La Moda es: \"+str(stats.mode(arr)))\n",
    "        print(\"La Correlación es: \"+str(np.corrcoef(arr)))\n",
    "        print(\"La Covarianza es: \"+str(np.cov(arr)))\n",
    "        print(\"El número mínimo es: \"+str(np.amin(arr)))\n",
    "        print(\"El número máximo es: \"+str(np.amax(arr)))\n",
    "        print(\"El rango es: \"+str(np.amax(arr)-np.amin(arr)))\n",
    "\n",
    "            \n",
    "#ejemplo1\n",
    "RS(a)\n",
    "#ejemplo2 (verifico que me sale error por que tiene más de un array)\n",
    "b = np.array([[1,2,3],[23,4,3]])\n",
    "RS(b)"
   ]
  },
  {
   "cell_type": "code",
   "execution_count": 5,
   "id": "b193463f",
   "metadata": {},
   "outputs": [],
   "source": [
    "#Entendiento ejercicio 1 (asi con esto : a.ndim saco cuantas dimensiones tiene un array)\n",
    "dimension = a.ndim"
   ]
  },
  {
   "cell_type": "code",
   "execution_count": 6,
   "id": "e701b91a",
   "metadata": {},
   "outputs": [],
   "source": [
    "#Entendiento ejercicio 1 Si detecta que l’array té més d’una dimensió, ha de mostrar un missatge d’error.\n",
    "if dimension >1:\n",
    "    print(error)"
   ]
  },
  {
   "cell_type": "code",
   "execution_count": 80,
   "id": "addaf997",
   "metadata": {},
   "outputs": [
    {
     "data": {
      "text/plain": [
       "12.0"
      ]
     },
     "execution_count": 80,
     "metadata": {},
     "output_type": "execute_result"
    }
   ],
   "source": [
    "#Entendiento ejercicio 1 \n",
    "#Mediana\n",
    "np.median(a) "
   ]
  },
  {
   "cell_type": "code",
   "execution_count": 81,
   "id": "9def39b0",
   "metadata": {},
   "outputs": [
    {
     "data": {
      "text/plain": [
       "4.15515416349971"
      ]
     },
     "execution_count": 81,
     "metadata": {},
     "output_type": "execute_result"
    }
   ],
   "source": [
    "#Entendiento ejercicio 1 \n",
    "# Desviación estandar\n",
    "np.std(a)"
   ]
  },
  {
   "cell_type": "code",
   "execution_count": 82,
   "id": "60ba090e",
   "metadata": {},
   "outputs": [
    {
     "data": {
      "text/plain": [
       "17.26530612244898"
      ]
     },
     "execution_count": 82,
     "metadata": {},
     "output_type": "execute_result"
    }
   ],
   "source": [
    "#Entendiento ejercicio 1 \n",
    "# Varianza\n",
    "np.var(a) "
   ]
  },
  {
   "cell_type": "code",
   "execution_count": 83,
   "id": "18ad21a7",
   "metadata": {},
   "outputs": [
    {
     "data": {
      "text/plain": [
       "ModeResult(mode=array([6]), count=array([2]))"
      ]
     },
     "execution_count": 83,
     "metadata": {},
     "output_type": "execute_result"
    }
   ],
   "source": [
    "#Entendiento ejercicio 1\n",
    "# moda opcion a\n",
    "stats.mode(a)"
   ]
  },
  {
   "cell_type": "code",
   "execution_count": 84,
   "id": "dfafe011",
   "metadata": {},
   "outputs": [
    {
     "name": "stdout",
     "output_type": "stream",
     "text": [
      "6\n",
      "[6, 12]\n"
     ]
    }
   ],
   "source": [
    "#Entendiento ejercicio 1\n",
    "#Moda opción b\n",
    "from statistics import mode, multimode\n",
    "print(mode(a))\n",
    "print(multimode(a))"
   ]
  },
  {
   "cell_type": "code",
   "execution_count": 86,
   "id": "c1b2cba0",
   "metadata": {},
   "outputs": [
    {
     "data": {
      "text/plain": [
       "1.0"
      ]
     },
     "execution_count": 86,
     "metadata": {},
     "output_type": "execute_result"
    }
   ],
   "source": [
    "#Entendiento ejercicio 1\n",
    "# correlacion\n",
    "np.corrcoef(a)"
   ]
  },
  {
   "cell_type": "code",
   "execution_count": 87,
   "id": "eca5e79a",
   "metadata": {},
   "outputs": [
    {
     "data": {
      "text/plain": [
       "array(20.14285714)"
      ]
     },
     "execution_count": 87,
     "metadata": {},
     "output_type": "execute_result"
    }
   ],
   "source": [
    "#Entendiento ejercicio 1\n",
    "# covarianza\n",
    "np.cov(a)"
   ]
  },
  {
   "cell_type": "code",
   "execution_count": 88,
   "id": "56b1a19b",
   "metadata": {},
   "outputs": [
    {
     "name": "stdout",
     "output_type": "stream",
     "text": [
      "6\n",
      "18\n",
      "12\n"
     ]
    }
   ],
   "source": [
    "#Entendiento ejercicio 1\n",
    "#rango \n",
    "print(np.amin(a)) #el numero minimo\n",
    "mini = np.amin(a)\n",
    "print(np.amax(a)) #el numero maximo\n",
    "maxi = np.amax(a)\n",
    "print(maxi - mini) #el rango"
   ]
  },
  {
   "cell_type": "code",
   "execution_count": 95,
   "id": "18e7a211",
   "metadata": {},
   "outputs": [
    {
     "data": {
      "text/html": [
       "<div>\n",
       "<style scoped>\n",
       "    .dataframe tbody tr th:only-of-type {\n",
       "        vertical-align: middle;\n",
       "    }\n",
       "\n",
       "    .dataframe tbody tr th {\n",
       "        vertical-align: top;\n",
       "    }\n",
       "\n",
       "    .dataframe thead th {\n",
       "        text-align: right;\n",
       "    }\n",
       "</style>\n",
       "<table border=\"1\" class=\"dataframe\">\n",
       "  <thead>\n",
       "    <tr style=\"text-align: right;\">\n",
       "      <th></th>\n",
       "      <th>0</th>\n",
       "    </tr>\n",
       "  </thead>\n",
       "  <tbody>\n",
       "    <tr>\n",
       "      <th>a</th>\n",
       "      <td>6</td>\n",
       "    </tr>\n",
       "    <tr>\n",
       "      <th>b</th>\n",
       "      <td>9</td>\n",
       "    </tr>\n",
       "    <tr>\n",
       "      <th>c</th>\n",
       "      <td>12</td>\n",
       "    </tr>\n",
       "    <tr>\n",
       "      <th>d</th>\n",
       "      <td>15</td>\n",
       "    </tr>\n",
       "    <tr>\n",
       "      <th>e</th>\n",
       "      <td>18</td>\n",
       "    </tr>\n",
       "    <tr>\n",
       "      <th>f</th>\n",
       "      <td>6</td>\n",
       "    </tr>\n",
       "    <tr>\n",
       "      <th>g</th>\n",
       "      <td>12</td>\n",
       "    </tr>\n",
       "  </tbody>\n",
       "</table>\n",
       "</div>"
      ],
      "text/plain": [
       "    0\n",
       "a   6\n",
       "b   9\n",
       "c  12\n",
       "d  15\n",
       "e  18\n",
       "f   6\n",
       "g  12"
      ]
     },
     "execution_count": 95,
     "metadata": {},
     "output_type": "execute_result"
    }
   ],
   "source": [
    "#Entendiento ejercicio 1: forma de hacer resumen estadistico rápido\n",
    "# resumen estadistadistico con pandas\n",
    "dataframe = pd.DataFrame(a, index=['a', 'b', 'c', 'd', 'e', 'f', 'g'])\n",
    "dataframe"
   ]
  },
  {
   "cell_type": "code",
   "execution_count": 98,
   "id": "83e5296e",
   "metadata": {},
   "outputs": [
    {
     "data": {
      "text/html": [
       "<div>\n",
       "<style scoped>\n",
       "    .dataframe tbody tr th:only-of-type {\n",
       "        vertical-align: middle;\n",
       "    }\n",
       "\n",
       "    .dataframe tbody tr th {\n",
       "        vertical-align: top;\n",
       "    }\n",
       "\n",
       "    .dataframe thead th {\n",
       "        text-align: right;\n",
       "    }\n",
       "</style>\n",
       "<table border=\"1\" class=\"dataframe\">\n",
       "  <thead>\n",
       "    <tr style=\"text-align: right;\">\n",
       "      <th></th>\n",
       "      <th>0</th>\n",
       "    </tr>\n",
       "  </thead>\n",
       "  <tbody>\n",
       "    <tr>\n",
       "      <th>count</th>\n",
       "      <td>7.000000</td>\n",
       "    </tr>\n",
       "    <tr>\n",
       "      <th>mean</th>\n",
       "      <td>11.142857</td>\n",
       "    </tr>\n",
       "    <tr>\n",
       "      <th>std</th>\n",
       "      <td>4.488079</td>\n",
       "    </tr>\n",
       "    <tr>\n",
       "      <th>min</th>\n",
       "      <td>6.000000</td>\n",
       "    </tr>\n",
       "    <tr>\n",
       "      <th>25%</th>\n",
       "      <td>7.500000</td>\n",
       "    </tr>\n",
       "    <tr>\n",
       "      <th>50%</th>\n",
       "      <td>12.000000</td>\n",
       "    </tr>\n",
       "    <tr>\n",
       "      <th>75%</th>\n",
       "      <td>13.500000</td>\n",
       "    </tr>\n",
       "    <tr>\n",
       "      <th>max</th>\n",
       "      <td>18.000000</td>\n",
       "    </tr>\n",
       "  </tbody>\n",
       "</table>\n",
       "</div>"
      ],
      "text/plain": [
       "               0\n",
       "count   7.000000\n",
       "mean   11.142857\n",
       "std     4.488079\n",
       "min     6.000000\n",
       "25%     7.500000\n",
       "50%    12.000000\n",
       "75%    13.500000\n",
       "max    18.000000"
      ]
     },
     "execution_count": 98,
     "metadata": {},
     "output_type": "execute_result"
    }
   ],
   "source": [
    "# resumen estadistadistico con pandas\n",
    "dataframe.describe()"
   ]
  },
  {
   "cell_type": "code",
   "execution_count": 34,
   "id": "295ad916",
   "metadata": {},
   "outputs": [
    {
     "name": "stdout",
     "output_type": "stream",
     "text": [
      "[[10 68 64]\n",
      " [10 91  4]\n",
      " [15  7 72]]\n"
     ]
    }
   ],
   "source": [
    "#exercici 2 Crea una funció que et generi un quadrat NxN de nombres aleatoris entre el 0 i el 100\n",
    "\n",
    "def NXN(f):\n",
    "    print(np.random.randint(100, size=(f, f)))\n",
    "NXN(3)"
   ]
  },
  {
   "cell_type": "code",
   "execution_count": 89,
   "id": "fbf51e6e",
   "metadata": {
    "scrolled": true
   },
   "outputs": [
    {
     "name": "stdout",
     "output_type": "stream",
     "text": [
      "[[34 97]\n",
      " [37 27]]\n"
     ]
    }
   ],
   "source": [
    "#Entendiendo exercici 2: Crea un quadrat NxN de nombres aleatoris entre el 0 i el 100\n",
    "x = np.random.randint(100, size=(2, 2))\n",
    "print(x)"
   ]
  },
  {
   "cell_type": "code",
   "execution_count": 60,
   "id": "8a94eae1",
   "metadata": {},
   "outputs": [
    {
     "name": "stdout",
     "output_type": "stream",
     "text": [
      "[[97 11]\n",
      " [70 15]\n",
      " [87 87]]\n",
      "[[97 11]\n",
      " [70 15]\n",
      " [87 87]]\n"
     ]
    }
   ],
   "source": [
    "#exercici 3 Crea una funció que donada una taula de dues dimensions (NxM), et calculi els totals per fila i els totals per columna\n",
    "def NXM(z,m):\n",
    "    carr = np.random.randint(100, size=(z, m))\n",
    "    print(carr)\n",
    "    return carr\n",
    "    \n",
    "s = NXM(3,2)\n",
    "print(s)"
   ]
  },
  {
   "cell_type": "code",
   "execution_count": 61,
   "id": "c001451e",
   "metadata": {},
   "outputs": [
    {
     "name": "stdout",
     "output_type": "stream",
     "text": [
      "El total por fila es [254 113]\n",
      "El total por columna es [108  85 174]\n"
     ]
    }
   ],
   "source": [
    "#exercici 3 Crea una funció que donada una taula de dues dimensions (NxM), et calculi els totals per fila i els totals\n",
    "def TXF(d):\n",
    "    print(\"El total por fila es \"+str(np.sum(d, axis = 0)))  \n",
    "    print(\"El total por columna es \"+str(np.sum(d, axis = 1)))\n",
    "\n",
    "\n",
    "TXF(s)"
   ]
  },
  {
   "cell_type": "code",
   "execution_count": 52,
   "id": "7780a2a4",
   "metadata": {},
   "outputs": [
    {
     "name": "stdout",
     "output_type": "stream",
     "text": [
      "[131 151  70]\n"
     ]
    }
   ],
   "source": [
    "#entendiendo exercici 3: como  calcular els totals per fila i els totals per columna.\n",
    "s = np.sum(y, axis=0)\n",
    "print(s)"
   ]
  },
  {
   "cell_type": "code",
   "execution_count": 53,
   "id": "0678fc4a",
   "metadata": {},
   "outputs": [
    {
     "name": "stdout",
     "output_type": "stream",
     "text": [
      "[174 178]\n"
     ]
    }
   ],
   "source": [
    "#exercici 3: et calculi els totals per columna.\n",
    "s = np.sum(y, axis=1)\n",
    "print(s)"
   ]
  },
  {
   "cell_type": "code",
   "execution_count": 59,
   "id": "454437be",
   "metadata": {},
   "outputs": [
    {
     "name": "stdout",
     "output_type": "stream",
     "text": [
      " \n",
      "media de c\n",
      "163.66666666666666\n",
      " \n",
      "media de d\n",
      "64.33333333333333\n",
      " \n",
      "numerador\n",
      "152.33333333333334\n",
      " \n",
      "denominador a\n",
      "320.6666666666667\n",
      " \n",
      "denominador b\n",
      "72.66666666666667\n",
      " \n",
      "denominador sin raiz\n",
      "23301.77777777778\n",
      " \n",
      "denominador con raíz\n",
      "152.64919841839256\n",
      " \n",
      "resultado final coeficiente de correlación\n",
      "0.9979307779645624\n"
     ]
    }
   ],
   "source": [
    "#exercici 4 Implementa manualment (una funció) que calculi el coeficient de correlació. Informate sobre els seus usos i interpretació.\n",
    "\n",
    "c = np.array([150,175,166])\n",
    "d = np.array([58,70,65])\n",
    "\n",
    "print(\" \")\n",
    "c.mean()\n",
    "print(\"media de c\")\n",
    "print(c.mean())\n",
    "\n",
    "print(\" \")\n",
    "d.mean()\n",
    "print(\"media de d\")\n",
    "print(d.mean())\n",
    "\n",
    "print(\" \") \n",
    "print(\"numerador\") \n",
    "numerador = 0\n",
    "for i in range(c.size):\n",
    "    numerador += (c[i]-c.mean()) * (d[i]-d.mean())\n",
    "print(numerador)\n",
    "\n",
    "print(\" \") \n",
    "print(\"denominador a\") \n",
    "denominador_a = 0\n",
    "for i in range(c.size):\n",
    "    denominador_a += (c[i]-c.mean())**2\n",
    "print(denominador_a)\n",
    "\n",
    "print(\" \") \n",
    "print(\"denominador b\") \n",
    "denominador_b = 0\n",
    "for i in range(c.size):\n",
    "    denominador_b += (d[i]-d.mean())**2\n",
    "print(denominador_b)\n",
    "\n",
    "print(\" \")\n",
    "print(\"denominador sin raiz\")\n",
    "print(denominador_a*denominador_b)\n",
    "\n",
    "print(\" \")\n",
    "print (\"denominador con raíz\")\n",
    "\n",
    "import math \n",
    "print(math.sqrt((denominador_a*denominador_b)))\n",
    "\n",
    "e = (math.sqrt((denominador_a*denominador_b)))\n",
    "d = (numerador)\n",
    "\n",
    "print(\" \")\n",
    "print (\"resultado final coeficiente de correlación\")\n",
    "print(d/e)"
   ]
  },
  {
   "cell_type": "code",
   "execution_count": 64,
   "id": "6894d95a",
   "metadata": {},
   "outputs": [
    {
     "ename": "IndentationError",
     "evalue": "expected an indented block (871293304.py, line 7)",
     "output_type": "error",
     "traceback": [
      "\u001b[0;36m  Input \u001b[0;32mIn [64]\u001b[0;36m\u001b[0m\n\u001b[0;31m    numerador += (g[i]-g.mean()) * (h[i]-h.mean())\u001b[0m\n\u001b[0m    ^\u001b[0m\n\u001b[0;31mIndentationError\u001b[0m\u001b[0;31m:\u001b[0m expected an indented block\n"
     ]
    }
   ],
   "source": [
    "#exercici 4: Lo estoy intentando arreglar, Implementa manualment una funció que calculi el coeficient de correlació. Informate sobre els seus usos i interpretació.\n",
    "\n",
    "def CC(g,h):\n",
    "    print(\"La media del primer array es \"+str(g.mean()))\n",
    "    print(\"La media del segundo array es \"+str(h.mean()))\n",
    "    print(\"El numerador es \") \n",
    "    numerador = 0\n",
    "    for i in range(g.size):\n",
    "    numerador += (g[i]-g.mean()) * (h[i]-h.mean())\n",
    "    print(numerador)\n",
    "    print(\"denominador a\") \n",
    "    denominador_a = 0\n",
    "    for i in range(c.size):\n",
    "    denominador_a += (c[i]-c.mean())**2\n",
    "    print(denominador_a)\n",
    "    print(\"denominador b\") \n",
    "    denominador_b = 0\n",
    "    for i in range(g.size):\n",
    "    denominador_b += (h[i]-h.mean())**2\n",
    "    print(denominador_b)\n",
    "    print(\"denominador sin raiz\"+str(denominador_a*denominador_b))\n",
    "    print (\"denominador con raíz\")\n",
    "    print(math.sqrt((denominador_a*denominador_b)))\n",
    "    e = (math.sqrt((denominador_a*denominador_b)))\n",
    "    d = (numerador)\n",
    "    print(\"El coeficiente de correlación es \"+str((d/e))  \n",
    "   \n",
    "\n",
    "\n"
   ]
  },
  {
   "cell_type": "code",
   "execution_count": null,
   "id": "cbb151b9",
   "metadata": {},
   "outputs": [],
   "source": []
  }
 ],
 "metadata": {
  "kernelspec": {
   "display_name": "Python 3 (ipykernel)",
   "language": "python",
   "name": "python3"
  },
  "language_info": {
   "codemirror_mode": {
    "name": "ipython",
    "version": 3
   },
   "file_extension": ".py",
   "mimetype": "text/x-python",
   "name": "python",
   "nbconvert_exporter": "python",
   "pygments_lexer": "ipython3",
   "version": "3.9.12"
  }
 },
 "nbformat": 4,
 "nbformat_minor": 5
}
