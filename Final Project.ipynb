{
 "cells": [
  {
   "cell_type": "code",
   "execution_count": 75,
   "id": "8798b67e",
   "metadata": {},
   "outputs": [],
   "source": [
    "import pandas as pd\n",
    "import numpy as np\n",
    "import matplotlib.pyplot as plt\n",
    "import seaborn as sns\n",
    "from scipy.stats import pointbiserialr\n",
    "from scipy.stats import f_oneway"
   ]
  },
  {
   "cell_type": "code",
   "execution_count": 77,
   "id": "b3bf967a",
   "metadata": {},
   "outputs": [
    {
     "name": "stdout",
     "output_type": "stream",
     "text": [
      "    paciente fechaingre     fechae  fechanaci  hermanos  familia  \\\n",
      "0          1 2022-07-25 2022-07-27 1999-01-22         2        2   \n",
      "1          2 2021-04-07 2021-05-21 2004-06-22         1        1   \n",
      "2          3 2021-04-07 2021-05-21 2004-04-30         2        1   \n",
      "3          4 2021-04-07 2021-05-21 2003-04-21         1        1   \n",
      "4          5 2021-06-29 2021-09-03 2003-05-22         2        1   \n",
      "5          6 2021-12-14 2022-02-13 2006-10-05         1        2   \n",
      "6          7 2022-11-07 2022-11-29 2005-02-08         2        1   \n",
      "7          8 2020-06-01 2021-06-14 2003-06-27         1        2   \n",
      "8          9 2021-04-06 2021-06-14 1996-10-20         1        2   \n",
      "9         10 2021-06-28 2021-09-07 2006-04-25         1        1   \n",
      "10        11 2022-02-21 2022-03-14 2008-01-20         1        1   \n",
      "11        12 2022-09-07 2022-11-24 2003-06-30         1        1   \n",
      "12        13 2020-12-02 2021-06-16 2005-01-29         1        1   \n",
      "13        14 2021-05-10 2021-06-16 2006-11-18         1        2   \n",
      "14        15 2021-05-17 2021-06-16 2008-11-06         1        2   \n",
      "15        16 2021-06-09 2021-06-16 2002-12-19         1        1   \n",
      "16        17 2019-12-18 2021-10-07 2000-09-10         2        1   \n",
      "17        18 2022-01-13 2022-02-14 2004-01-27         1        1   \n",
      "18        19 2021-10-21 2022-05-10 2005-06-03         1        2   \n",
      "19        20 2022-04-04 2022-05-10 2006-05-30         1        1   \n",
      "\n",
      "    paisnacimiento  edad  Curso  Repetircurso  ...  item56r  item57r  item58r  \\\n",
      "0                1    23     11             2  ...        2        3        3   \n",
      "1                2    16      5             2  ...        4        3        3   \n",
      "2                2    17      5             2  ...        4        3        2   \n",
      "3                2    18      6             1  ...        2        4        4   \n",
      "4               23    18      6             1  ...        2        4        3   \n",
      "5                2    15      4             2  ...        2        3        2   \n",
      "6                2    17      6             2  ...        2        4        4   \n",
      "7                2    17      6             2  ...        4        3        4   \n",
      "8                8    24      7             1  ...        1        1        3   \n",
      "9               25    15      4             2  ...        3        3        4   \n",
      "10               2    14      2             2  ...        4        3        3   \n",
      "11               2    19      6             1  ...        2        3        4   \n",
      "12               2    16      4             2  ...        2        2        2   \n",
      "13               2    14      3             2  ...        4        2        2   \n",
      "14               2    12      1             2  ...        4        4        4   \n",
      "15               2    18     11             2  ...        4        4        4   \n",
      "16               2    21     11             2  ...        1        2        4   \n",
      "17               2    17      6             2  ...        4        1        3   \n",
      "18               1    16      4             1  ...        4        3        3   \n",
      "19               2    15      4             2  ...        2        3        2   \n",
      "\n",
      "    item59r  urgn  urgp  premed  persev  búsqs  impt  \n",
      "0         2    34    29      30      19     29   141  \n",
      "1         3    32    41      30      28     40   171  \n",
      "2         3    36    41      25      28     41   171  \n",
      "3         3    32    32      29      28     25   146  \n",
      "4         3    33    32      28      30     32   155  \n",
      "5         4    24    25      21      17     30   117  \n",
      "6         3    42    26      25      26     19   138  \n",
      "7         4    42    42      27      17     39   167  \n",
      "8         1    37    19      22      26     23   127  \n",
      "9         2    33    26      24      12     37   132  \n",
      "10        3    30    31      20      18     38   137  \n",
      "11        3    36    33      23      20     32   144  \n",
      "12        3    27    29      24      16     35   131  \n",
      "13        2    26    19      23      30     38   136  \n",
      "14        3    46    51      30      23     40   190  \n",
      "15        4    40    34      20      19     40   153  \n",
      "16        1    29    27      16      10     15    97  \n",
      "17        1    30    39      23      19     42   153  \n",
      "18        4    27    23      23      26     44   143  \n",
      "19        2    27    26      21      26     25   125  \n",
      "\n",
      "[20 rows x 120 columns]\n"
     ]
    }
   ],
   "source": [
    "#Descargo el archivo\n",
    "archivo = pd.read_excel('UPPS solo Bulimia Tr atracon.xlsx')\n",
    "\n",
    "#Primero analizo un poco el archivo, puedo crear un pequeño archivo, con una muestra de las primera 20 lineas,  para hacer operaciones\n",
    "archivopequeño = archivo[:20]\n",
    "print(archivopequeño)"
   ]
  },
  {
   "cell_type": "code",
   "execution_count": 78,
   "id": "8a948ff9",
   "metadata": {},
   "outputs": [
    {
     "name": "stdout",
     "output_type": "stream",
     "text": [
      "    paciente fechaingre     fechae  fechanaci  hermanos  familia  \\\n",
      "0          1 2022-07-25 2022-07-27 1999-01-22         2        2   \n",
      "1          2 2021-04-07 2021-05-21 2004-06-22         1        1   \n",
      "2          3 2021-04-07 2021-05-21 2004-04-30         2        1   \n",
      "3          4 2021-04-07 2021-05-21 2003-04-21         1        1   \n",
      "4          5 2021-06-29 2021-09-03 2003-05-22         2        1   \n",
      "..       ...        ...        ...        ...       ...      ...   \n",
      "78        79 2021-03-10 2021-08-09 2005-11-08         2        1   \n",
      "79        80 2020-11-09 2021-08-09 2000-10-20         1        2   \n",
      "80        81 2020-10-19 2021-08-09 2003-03-11         1        2   \n",
      "81        82 2019-06-20 2021-08-09 2003-05-03         1        1   \n",
      "82        83 2022-04-04 2022-10-17 2000-05-18         2        1   \n",
      "\n",
      "    paisnacimiento  edad  Curso  Repetircurso  ...  item56r  item57r  item58r  \\\n",
      "0                1    23     11             2  ...        2        3        3   \n",
      "1                2    16      5             2  ...        4        3        3   \n",
      "2                2    17      5             2  ...        4        3        2   \n",
      "3                2    18      6             1  ...        2        4        4   \n",
      "4               23    18      6             1  ...        2        4        3   \n",
      "..             ...   ...    ...           ...  ...      ...      ...      ...   \n",
      "78               2    15      3             1  ...        3        4        2   \n",
      "79               2    20     11             2  ...        4        4        3   \n",
      "80               6    18      6             2  ...        2        2        2   \n",
      "81               2    18      8             2  ...        3        1        3   \n",
      "82               2    22     11             2  ...        3        3        3   \n",
      "\n",
      "    item59r  urgn  urgp  premed  persev  búsqs  impt  \n",
      "0         2    34    29      30      19     29   141  \n",
      "1         3    32    41      30      28     40   171  \n",
      "2         3    36    41      25      28     41   171  \n",
      "3         3    32    32      29      28     25   146  \n",
      "4         3    33    32      28      30     32   155  \n",
      "..      ...   ...   ...     ...     ...    ...   ...  \n",
      "78        2    31    36      26      27     42   162  \n",
      "79        3    34    26      12      20     31   123  \n",
      "80        1    27    15      30      34     31   137  \n",
      "81        1    27    18      32      28     26   131  \n",
      "82        3    37    31      27      20     26   141  \n",
      "\n",
      "[83 rows x 120 columns]\n"
     ]
    }
   ],
   "source": [
    "#elimino valores nan  \n",
    "archivo = archivo.dropna()\n",
    "print(archivo)"
   ]
  },
  {
   "cell_type": "code",
   "execution_count": 79,
   "id": "19ec23cb",
   "metadata": {},
   "outputs": [
    {
     "name": "stdout",
     "output_type": "stream",
     "text": [
      "El promedio de edad de las pacientes es\n",
      "17.42168674698795\n"
     ]
    }
   ],
   "source": [
    "print(\"El promedio de edad de las pacientes es\")\n",
    "print(str(archivo['edad'].mean()))"
   ]
  },
  {
   "cell_type": "code",
   "execution_count": 80,
   "id": "d824411c",
   "metadata": {},
   "outputs": [
    {
     "name": "stdout",
     "output_type": "stream",
     "text": [
      "El promedio de UPPS de las pacientes es\n",
      "141.710843373494\n"
     ]
    }
   ],
   "source": [
    "print(\"El promedio de UPPS de las pacientes es\")\n",
    "print(str(archivo['impt'].mean()))"
   ]
  },
  {
   "cell_type": "code",
   "execution_count": 81,
   "id": "9c8d577c",
   "metadata": {},
   "outputs": [
    {
     "name": "stdout",
     "output_type": "stream",
     "text": [
      "El promedio de UPPS de las pacientes con diagnóstico de Bulimia Nerviosa es: 140.5909090909091\n",
      "El promedio de UPPS de las pacientes con diagnóstico de Trastorno por atracones es: 142.97435897435898\n"
     ]
    }
   ],
   "source": [
    "# Promedio de pacientes con diagnóstico valor 9\n",
    "promedio_diagnostico_BN = archivo[archivo['Diagnostico'] == 9]['impt'].mean()\n",
    "print(\"El promedio de UPPS de las pacientes con diagnóstico de Bulimia Nerviosa es: \" + str(promedio_diagnostico_BN))\n",
    "\n",
    "# Promedio de pacientes con diagnóstico valor 20\n",
    "promedio_diagnostico_TA = archivo[archivo['Diagnostico'] == 20]['impt'].mean()\n",
    "print(\"El promedio de UPPS de las pacientes con diagnóstico de Trastorno por atracones es: \" + str(promedio_diagnostico_TA))\n"
   ]
  },
  {
   "cell_type": "code",
   "execution_count": 82,
   "id": "815d1d6d",
   "metadata": {},
   "outputs": [
    {
     "data": {
      "text/plain": [
       "197"
      ]
     },
     "execution_count": 82,
     "metadata": {},
     "output_type": "execute_result"
    }
   ],
   "source": [
    "#El valor max. de la escala impusividad es: \n",
    "archivo['impt'].max()"
   ]
  },
  {
   "cell_type": "code",
   "execution_count": 83,
   "id": "a6889194",
   "metadata": {},
   "outputs": [
    {
     "data": {
      "text/plain": [
       "97"
      ]
     },
     "execution_count": 83,
     "metadata": {},
     "output_type": "execute_result"
    }
   ],
   "source": [
    "#El valor min. de la escala impusividad es: \n",
    "archivo['impt'].min()"
   ]
  },
  {
   "cell_type": "code",
   "execution_count": 84,
   "id": "8afae991",
   "metadata": {},
   "outputs": [
    {
     "name": "stdout",
     "output_type": "stream",
     "text": [
      "La media de impulsividad para el rango de edad (12, 15] es: 146.43\n",
      "La media de impulsividad para el rango de edad (15, 18] es: 142.05\n",
      "La media de impulsividad para el rango de edad (18, 21] es: 133.57\n",
      "La media de impulsividad para el rango de edad (21, 30] es: 133.71\n"
     ]
    }
   ],
   "source": [
    "#la media de impulsividad segun el rango de edad es: \n",
    "# Crear los rangos de edad\n",
    "rangos_edad = pd.cut(archivo['edad'], [12, 15, 18, 21, 30])\n",
    "\n",
    "# Calcular la media de impt en cada rango de edad\n",
    "media_imp = archivo['impt'].groupby(rangos_edad).mean()\n",
    "\n",
    "# Mostrar los resultados\n",
    "for rango, media in media_imp.iteritems():\n",
    "    print(f\"La media de impulsividad para el rango de edad {rango} es: {media:.2f}\")"
   ]
  },
  {
   "cell_type": "code",
   "execution_count": 85,
   "id": "af2b7371",
   "metadata": {},
   "outputs": [
    {
     "name": "stdout",
     "output_type": "stream",
     "text": [
      "Coeficiente de correlación biserial puntual: 0.05360521502032823\n",
      "Valor p: 0.6302985757032749\n",
      "Un coeficiente de correlación biserial puntual de 0.05360521502032823 lo cual sugiere una correlación muy débil entre las variables de impulsividad medida por UPSS y el diagnostico de Bulimia nerviosa vs trastorno por atracones.\n"
     ]
    }
   ],
   "source": [
    "#Correlación entre Grado de impulsividad y diagnostico\n",
    "#import pandas as pd\n",
    "#from scipy.stats import pointbiserialr\n",
    "\n",
    "# Cargar el archivo Excel como un dataframe de pandas\n",
    "archivos = pd.read_excel('UPPS solo Bulimia Tr atracon.xlsx')\n",
    "\n",
    "# Calcular la correlación biserial puntual\n",
    "corr, pvalor = pointbiserialr(archivos['impt'], archivos['Diagnostico'])\n",
    "\n",
    "# Imprimir el coeficiente de correlación y el valor p\n",
    "print('Coeficiente de correlación biserial puntual:', corr)\n",
    "print('Valor p:', pvalor)\n",
    "print('Un coeficiente de correlación biserial puntual de 0.05360521502032823 lo cual sugiere una correlación muy débil entre las variables de impulsividad medida por UPSS y el diagnostico de Bulimia nerviosa vs trastorno por atracones.')"
   ]
  },
  {
   "cell_type": "code",
   "execution_count": 86,
   "id": "b7f24f3f",
   "metadata": {},
   "outputs": [
    {
     "name": "stdout",
     "output_type": "stream",
     "text": [
      "El valor de p es 0.6302985757032766\n",
      "Por lo tanto, no se detectan diferencias significativas entre los grupos\n"
     ]
    }
   ],
   "source": [
    "#Correlación entre grado de impulsivdad y el diagnostico a travez de otro método\n",
    "#import pandas as pd\n",
    "#from scipy.stats import f_oneway\n",
    "\n",
    "grupo_BN = archivo[archivo['Diagnostico'] == 9]['impt']\n",
    "grupo_TA = archivo[archivo['Diagnostico'] == 20]['impt']\n",
    "\n",
    "f_val, p_val = f_oneway(grupo_BN, grupo_TA)\n",
    "\n",
    "print(\"El valor de p es\",p_val)\n",
    "\n",
    "if p_val < 0.05:\n",
    "    print(\"Por lo tanto, hay diferencias significativas entre los grupos\")\n",
    "else:\n",
    "    print(\"Por lo tanto, no se detectan diferencias significativas entre los grupos\")"
   ]
  },
  {
   "cell_type": "code",
   "execution_count": 87,
   "id": "2e564610",
   "metadata": {},
   "outputs": [
    {
     "name": "stdout",
     "output_type": "stream",
     "text": [
      "Correlación biserial puntual entre impt y Actividad: 0.071\n",
      "Valor p: 0.521\n"
     ]
    }
   ],
   "source": [
    "# Calcular la correlación biserial puntual entre impt y Actividad\n",
    "corr, p_value = pointbiserialr(archivo['impt'], archivo['Actividad'])\n",
    "\n",
    "# Mostrar el resultado\n",
    "print(\"Correlación biserial puntual entre impt y Actividad: {:.3f}\".format(corr))\n",
    "print(\"Valor p: {:.3f}\".format(p_value))\n"
   ]
  },
  {
   "cell_type": "code",
   "execution_count": 88,
   "id": "4d755318",
   "metadata": {},
   "outputs": [
    {
     "name": "stdout",
     "output_type": "stream",
     "text": [
      "La media de impt para la actividad 1 es: 134.1904761904762\n",
      "La media de impt para la actividad 2 es: 148.33333333333334\n",
      "La media de impt para la actividad 3 es: 140.3\n",
      "La media de impt para la actividad 4 es: 144.5\n",
      "La media de impt para la actividad 5 es: 141.0\n",
      "La media de impt para la actividad 6 es: 145.58333333333334\n",
      "La media de impt para la actividad 7 es: nan\n",
      "La media de impt para la actividad 8 es: 169.5\n",
      "La media de impt para la actividad 9 es: 111.0\n",
      "La media de impt para la actividad 10 es: nan\n",
      "La media de impt para la actividad 11 es: nan\n",
      "La media de impt para la actividad 12 es: 130.33333333333334\n",
      "La media de impt para la actividad 13 es: 111.0\n",
      "La media de impt para la actividad 14 es: 146.0\n",
      "La media de impt para la actividad 15 es: 138.0\n",
      "La media de impt para la actividad 16 es: 136.5\n",
      "La media de impt para la actividad 17 es: 168.0\n",
      "La media de impt para la actividad 18 es: 131.0\n",
      "La media de impt para la actividad 19 es: nan\n",
      "La media de impt para la actividad 20 es: nan\n",
      "La media de impt para la actividad 21 es: nan\n",
      "La media de impt para la actividad 22 es: 194.0\n",
      "La media de impt para la actividad 23 es: nan\n",
      "La media de impt para la actividad 24 es: 155.0\n",
      "La media de impt para la actividad 25 es: nan\n",
      "La media de impt para la actividad 26 es: nan\n",
      "La media de impt para la actividad 27 es: 132.5\n"
     ]
    }
   ],
   "source": [
    "\n",
    "# Crear un diccionario para almacenar los resultados\n",
    "media_imp_actividad = {}\n",
    "\n",
    "# Iterar por cada actividad\n",
    "for i in range(1, 28):\n",
    "    # Filtrar los datos de la actividad i\n",
    "    datos_actividad_i = archivo[archivo['Actividad'] == i]\n",
    "    # Calcular la media de impt de la actividad i\n",
    "    media_imp_actividad[i] = datos_actividad_i['impt'].mean()\n",
    "\n",
    "# Mostrar los resultados\n",
    "for i in range(1, 28):\n",
    "    print(\"La media de impt para la actividad\", i, \"es:\", media_imp_actividad[i])\n",
    "\n",
    "\n"
   ]
  },
  {
   "cell_type": "code",
   "execution_count": 89,
   "id": "78f8dc5a",
   "metadata": {},
   "outputs": [
    {
     "name": "stdout",
     "output_type": "stream",
     "text": [
      "Correlación biserial puntual entre grado de impulsividad y Actividad: 0.07142422409602166\n",
      "Valor p: 0.5210955705466015\n",
      "No hay una correlación significativa entre tipo de actividad y grado de  impulsividad\n"
     ]
    }
   ],
   "source": [
    "from scipy import stats\n",
    "\n",
    "# Agrupar por actividad y calcular el promedio de impt\n",
    "actividad_promedio = archivo.groupby('Actividad')['impt'].mean()\n",
    "\n",
    "# Calcular la correlación biserial puntual entre impt y actividad\n",
    "corr, pval = stats.pointbiserialr(archivo['Actividad'], archivo['impt'])\n",
    "\n",
    "# Mostrar los resultados\n",
    "print(\"Correlación biserial puntual entre grado de impulsividad y Actividad:\", corr)\n",
    "print(\"Valor p:\", pval)\n",
    "\n",
    "# Ver si hay una correlación significativa\n",
    "if pval < 0.05:\n",
    "    print(\"Hay una correlación significativa entre tipo de actividad y grado de impulsividad\")\n",
    "else:\n",
    "    print(\"No hay una correlación significativa entre tipo de actividad y grado de  impulsividad\")\n"
   ]
  },
  {
   "cell_type": "code",
   "execution_count": 90,
   "id": "e5e1c5a2",
   "metadata": {},
   "outputs": [
    {
     "name": "stdout",
     "output_type": "stream",
     "text": [
      "Correlación biserial puntual entre grado de impulsividad y Familia: 0.18655994360401792\n",
      "Valor p: 0.09127183302298626\n",
      "No hay una correlación significativa entre tipo de familia y grado de impulsividad\n"
     ]
    }
   ],
   "source": [
    "from scipy import stats\n",
    "\n",
    "# Agrupar por tipo de familia y calcular el promedio de impt\n",
    "familia_promedio = archivo.groupby('familia')['impt'].mean()\n",
    "\n",
    "# Calcular la correlación biserial puntual entre impt y actividad\n",
    "corr, pval = stats.pointbiserialr(archivo['familia'], archivo['impt'])\n",
    "\n",
    "# Mostrar los resultados\n",
    "print(\"Correlación biserial puntual entre grado de impulsividad y Familia:\", corr)\n",
    "print(\"Valor p:\", pval)\n",
    "\n",
    "# Ver si hay una correlación significativa\n",
    "if pval < 0.05:\n",
    "    print(\"Hay una correlación significativa entre tipo de familia y grado de impulsividad\")\n",
    "else:\n",
    "    print(\"No hay una correlación significativa entre tipo de familia y grado de impulsividad\")"
   ]
  },
  {
   "cell_type": "code",
   "execution_count": 91,
   "id": "776d3f80",
   "metadata": {},
   "outputs": [
    {
     "name": "stdout",
     "output_type": "stream",
     "text": [
      "Correlación biserial puntual entre impt y Repetir curso: -0.12185975057094149\n",
      "Valor p: 0.27244283405852954\n",
      "No hay una correlación significativa entre Repetir curso e impt\n"
     ]
    }
   ],
   "source": [
    "from scipy import stats\n",
    "\n",
    "# Agrupar por tipo de repetir curso y calcular el promedio de impt\n",
    "repetircurso_promedio = archivo.groupby('Repetircurso')['impt'].mean()\n",
    "\n",
    "# Calcular la correlación biserial puntual entre impt y actividad\n",
    "corr, pval = stats.pointbiserialr(archivo['Repetircurso'], archivo['impt'])\n",
    "\n",
    "# Mostrar los resultados\n",
    "print(\"Correlación biserial puntual entre impt y Repetir curso:\", corr)\n",
    "print(\"Valor p:\", pval)\n",
    "\n",
    "# Ver si hay una correlación significativa\n",
    "if pval < 0.05:\n",
    "    print(\"Hay una correlación significativa entre Repetir curso e impt\")\n",
    "else:\n",
    "    print(\"No hay una correlación significativa entre Repetir curso e impt\")"
   ]
  },
  {
   "cell_type": "code",
   "execution_count": 92,
   "id": "519f3789",
   "metadata": {},
   "outputs": [
    {
     "data": {
      "image/png": "[encoded data removed]",
      "text/plain": [
       "<Figure size 720x432 with 1 Axes>"
      ]
     },
     "metadata": {
      "needs_background": "light"
     },
     "output_type": "display_data"
    }
   ],
   "source": [
    "import pandas as pd\n",
    "import matplotlib.pyplot as plt\n",
    "\n",
    "# Agrupar por actividad y calcular el promedio de impt\n",
    "actividad_promedio = archivo.groupby('Actividad')['impt'].mean()\n",
    "\n",
    "# Ordenar las actividades de forma ascendente\n",
    "actividad_promedio = actividad_promedio.sort_index()\n",
    "\n",
    "# Crear la figura y los ejes\n",
    "fig, ax = plt.subplots(figsize=(10, 6))\n",
    "\n",
    "# Crear la gráfica de barras\n",
    "grafica_barras = ax.bar(actividad_promedio.index, actividad_promedio.values, color='blue')\n",
    "\n",
    "# Añadir el número de actividad encima de cada barra\n",
    "for i, rect in enumerate(grafica_barras):\n",
    "    height = rect.get_height()\n",
    "    ax.text(rect.get_x() + rect.get_width() / 2.0, height, str(i+1), ha='center', va='bottom', rotation=90)\n",
    "    \n",
    "plt.tick_params(axis='x', which='both', bottom=False, top=False, labelbottom=False)\n",
    "\n",
    "\n",
    "# Personalizar los ejes y el título\n",
    "ax.set_xlabel('Actividad')\n",
    "ax.set_ylabel('Impulsividad promedio')\n",
    "ax.set_title('Promedio de impulsividad por actividad')\n",
    "\n",
    "# Mostrar la gráfica\n",
    "plt.show()\n",
    "\n",
    "\n"
   ]
  },
  {
   "cell_type": "code",
   "execution_count": 93,
   "id": "6535f9d1",
   "metadata": {},
   "outputs": [
    {
     "data": {
      "image/png": "[encoded data removed]",
      "text/plain": [
       "<Figure size 432x288 with 1 Axes>"
      ]
     },
     "metadata": {
      "needs_background": "light"
     },
     "output_type": "display_data"
    }
   ],
   "source": [
    "# Crear una nueva columna con los rangos de edad correspondientes\n",
    "bins = [12, 15, 18, 21, archivo['edad'].max()]\n",
    "labels = ['12-15', '15-18', '18-21', '21+']\n",
    "archivo['edad_Rango'] = pd.cut(archivo['edad'], bins=bins, labels=labels, include_lowest=True)\n",
    "\n",
    "# Calcular el promedio de imp para cada rango de edad\n",
    "edad_promedio = archivo.groupby('edad_Rango')['impt'].mean()\n",
    "\n",
    "# Crear la gráfica de barras con los promedios de imp para cada rango de edad\n",
    "plt.bar(edad_promedio.index, edad_promedio.values)\n",
    "\n",
    "# Configurar los ejes y la etiqueta del eje y\n",
    "plt.xlabel('Rango de Edad')\n",
    "plt.ylabel('Valor Promedio de Imp')\n",
    "plt.ylim(0, archivo['impt'].max() + 1)\n",
    "\n",
    "# Mostrar la gráfica\n",
    "plt.show()\n"
   ]
  },
  {
   "cell_type": "code",
   "execution_count": 94,
   "id": "78f65962",
   "metadata": {},
   "outputs": [
    {
     "data": {
      "image/png": "[encoded data removed]",
      "text/plain": [
       "<Figure size 432x288 with 1 Axes>"
      ]
     },
     "metadata": {
      "needs_background": "light"
     },
     "output_type": "display_data"
    }
   ],
   "source": [
    "import pandas as pd\n",
    "import matplotlib.pyplot as plt\n",
    "\n",
    "\n",
    "# Crear los rangos de edad\n",
    "rangos_edad = pd.cut(archivo['edad'], [12, 15, 18, 21, 150])\n",
    "\n",
    "# Contar la frecuencia de los valores de \"imp\" en cada rango\n",
    "frecuencia_imp = archivo['impt'].groupby(rangos_edad).count()\n",
    "\n",
    "# Crear el histograma\n",
    "plt.bar(['12-15', '15-18', '18-21', '>21'], frecuencia_imp, width=0.5)\n",
    "\n",
    "# Agregar etiquetas\n",
    "plt.xlabel('Rango de edad')\n",
    "plt.ylabel('Frecuencia de imp')\n",
    "plt.title('Distribución de frecuencia de imp por rango de edad')\n",
    "\n",
    "# Mostrar el histograma\n",
    "plt.show()\n",
    "\n"
   ]
  },
  {
   "cell_type": "code",
   "execution_count": 95,
   "id": "1a6d7997",
   "metadata": {},
   "outputs": [
    {
     "data": {
      "image/png": "[encoded data removed]",
      "text/plain": [
       "<Figure size 432x288 with 1 Axes>"
      ]
     },
     "metadata": {
      "needs_background": "light"
     },
     "output_type": "display_data"
    }
   ],
   "source": [
    "import matplotlib.pyplot as plt\n",
    "import seaborn as sns\n",
    "\n",
    "sns.scatterplot(x=\"edad\", y=\"impt\", hue=\"Actividad\", data=archivo, style=\"Actividad\")\n",
    "plt.show()\n",
    "\n"
   ]
  },
  {
   "cell_type": "code",
   "execution_count": null,
   "id": "1a327290",
   "metadata": {},
   "outputs": [],
   "source": []
  }
 ],
 "metadata": {
  "kernelspec": {
   "display_name": "Python 3 (ipykernel)",
   "language": "python",
   "name": "python3"
  },
  "language_info": {
   "codemirror_mode": {
    "name": "ipython",
    "version": 3
   },
   "file_extension": ".py",
   "mimetype": "text/x-python",
   "name": "python",
   "nbconvert_exporter": "python",
   "pygments_lexer": "ipython3",
   "version": "3.9.12"
  }
 },
 "nbformat": 4,
 "nbformat_minor": 5
}
