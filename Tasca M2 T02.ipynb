{
 "cells": [
  {
   "cell_type": "code",
   "execution_count": 8,
   "id": "2b6456bb",
   "metadata": {},
   "outputs": [
    {
     "name": "stdout",
     "output_type": "stream",
     "text": [
      "Excel·lent\n"
     ]
    }
   ],
   "source": [
    "#Exercici 1\n",
    "a=9\n",
    "if a< 5:\n",
    " print(\"Suspès\") \n",
    "elif a>=5 and a<7:\n",
    " print(\"Aprovat\") \n",
    "elif a>=7 and a<9:\n",
    " print(\"Notable\")\n",
    "elif a>=9:\n",
    " print(\"Excel·lent\")"
   ]
  },
  {
   "cell_type": "code",
   "execution_count": 11,
   "id": "06a0ecdc",
   "metadata": {},
   "outputs": [
    {
     "name": "stdout",
     "output_type": "stream",
     "text": [
      "Escribe un número: 2\n",
      "Escribe otro número: 3\n",
      "3 es mayor que 2\n"
     ]
    }
   ],
   "source": [
    "#Exercici 2\n",
    "a = input('Escribe un número: ')\n",
    "b = input('Escribe otro número: ')\n",
    "\n",
    "if b>a:\n",
    " print(str(b) + \" es mayor que \" + str(a))\n",
    "elif b==a:\n",
    " print(str(a) + \" es igual que \"+ str(b));\n",
    "elif b<a:\n",
    " print(str(a) + \" es mayor que \"+ str(b));"
   ]
  },
  {
   "cell_type": "code",
   "execution_count": 28,
   "id": "e202715a",
   "metadata": {},
   "outputs": [
    {
     "name": "stdout",
     "output_type": "stream",
     "text": [
      "Escribe tu nombre: maria\n",
      "Escribe un número: 3\n",
      "maria maria maria \n"
     ]
    }
   ],
   "source": [
    "#Exercici 3\n",
    "a = input('Escribe tu nombre: ')\n",
    "b = input('Escribe un número: ')\n",
    "\n",
    "if b==0:\n",
    " print(\"error\")\n",
    "else:\n",
    " print((str(a)+' ')*int(b))"
   ]
  },
  {
   "cell_type": "code",
   "execution_count": 39,
   "id": "8bfcbdf7",
   "metadata": {},
   "outputs": [
    {
     "name": "stdout",
     "output_type": "stream",
     "text": [
      "La lista es simétrica y tiene 6 elementos\n"
     ]
    }
   ],
   "source": [
    "#Exercici 4\n",
    "lista = [\"1\", \"2\", \"3\", \"4\", \"5\", \"6\"]\n",
    "n = (len(lista))\n",
    "l = (len(lista))\n",
    "\n",
    "if n % 2 == 0:\n",
    "    print(\"La lista es simétrica y tiene \"+str(l)+ \" elementos\")\n",
    "else:\n",
    "    print(\"La lista no es simétrica\")\n",
    "\n",
    "    "
   ]
  },
  {
   "cell_type": "code",
   "execution_count": 87,
   "id": "2347844c",
   "metadata": {},
   "outputs": [
    {
     "name": "stdout",
     "output_type": "stream",
     "text": [
      "el 0 coincide\n",
      "el 3 coincide\n",
      "el 5 coincide\n"
     ]
    }
   ],
   "source": [
    "#Exercici 5:\n",
    "#Crea un programa que donada una llista\n",
    "#et digui quants números coincideixen amb la seva posició. Per exemple [3,4,2,0,2,3,6] el 2 i el 6 coincideixen.\n",
    "lista2 = [0, 2, 1, 3, 10, 5]\n",
    "    \n",
    "for i in range(len(lista2)):\n",
    "    if lista2[i]== i:\n",
    "        print(\"el \"+str(i)+\" coincide\")\n",
    "\n",
    "\n"
   ]
  },
  {
   "cell_type": "code",
   "execution_count": null,
   "id": "b2954afb",
   "metadata": {},
   "outputs": [],
   "source": []
  }
 ],
 "metadata": {
  "kernelspec": {
   "display_name": "Python 3 (ipykernel)",
   "language": "python",
   "name": "python3"
  },
  "language_info": {
   "codemirror_mode": {
    "name": "ipython",
    "version": 3
   },
   "file_extension": ".py",
   "mimetype": "text/x-python",
   "name": "python",
   "nbconvert_exporter": "python",
   "pygments_lexer": "ipython3",
   "version": "3.9.12"
  }
 },
 "nbformat": 4,
 "nbformat_minor": 5
}
